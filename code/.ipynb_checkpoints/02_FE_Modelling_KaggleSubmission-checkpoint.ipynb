{
 "cells": [
  {
   "cell_type": "markdown",
   "metadata": {},
   "source": [
    "<img src=\"http://imgur.com/1ZcRyrc.png\" style=\"float: left; margin: 20px; height: 55px\">\n",
    "\n",
    "# Project 2: - Ames Housing Data and Kaggle Challenge\n"
   ]
  },
  {
   "cell_type": "markdown",
   "metadata": {},
   "source": [
    "## Content:\n",
    "\n",
    "- [Library & dataset imports](#Importing-libraries-and-our-cleaned-datasets)\n",
    "- [Modelling of clean dataset](#Trying-to-model-the-clean-dataset)\n",
    "- [Modifying Predictors](#Modifying-Predictors)\n",
    "- [Finalize Predictors](#Finalize-Predictors)\n",
    "- [Model 1: Baseline Model](#Model-1:-Baseline-Model)\n",
    "- [Model 2: Baseline Model with Polynomial features and scaling](#Model-2:-Model-with-Polynomial-features-and-scaling)\n",
    "- [Model 3: Model 2 with Ridge Regularization](#Model-3:-Model-2-with-Ridge-regularization)\n",
    "- [Model 4: Model 2 with Lasso Regularization](#Model-4:-Model-3-with-Lasso)\n",
    "- [LINEM Assumptions](#Assumptions)\n",
    "- [Summary](#Summary)\n",
    "- [Conclusion](#Conclusion)\n",
    "- [Export to Kaggle](#Applying-model-3-to-kaggle)"
   ]
  },
  {
   "cell_type": "markdown",
   "metadata": {},
   "source": [
    "### Importing libraries and our cleaned datasets"
   ]
  },
  {
   "cell_type": "code",
   "execution_count": 1,
   "metadata": {},
   "outputs": [],
   "source": [
    "import numpy as np\n",
    "import pandas as pd\n",
    "from sklearn.linear_model import LinearRegression, LassoCV, RidgeCV\n",
    "from sklearn.model_selection import train_test_split, cross_val_score\n",
    "from sklearn.metrics import mean_squared_error\n",
    "from sklearn.preprocessing import PolynomialFeatures, StandardScaler\n",
    "import statsmodels.api as sm\n",
    "import matplotlib.pyplot as plt\n",
    "import seaborn as sns\n",
    "pd.set_option('display.max_columns', None)\n",
    "pd.set_option('display.max_rows',None)"
   ]
  },
  {
   "cell_type": "code",
   "execution_count": 2,
   "metadata": {},
   "outputs": [],
   "source": [
    "train = pd.read_csv(\"../datasets/final_train.csv\")\n",
    "test = pd.read_csv(\"../datasets/final_test.csv\")"
   ]
  },
  {
   "cell_type": "code",
   "execution_count": 3,
   "metadata": {},
   "outputs": [
    {
     "name": "stdout",
     "output_type": "stream",
     "text": [
      "train shape : (2049, 209)\n",
      "test shape: (878, 199)\n"
     ]
    }
   ],
   "source": [
    "print (f\"train shape : {train.shape}\")\n",
    "print (f\"test shape: {test.shape}\")"
   ]
  },
  {
   "cell_type": "code",
   "execution_count": 4,
   "metadata": {},
   "outputs": [],
   "source": [
    "# Setting id as dtype so it will not be use as a feature\n",
    "train.id = train.id.astype(object)\n",
    "test.id = test.id.astype(object)"
   ]
  },
  {
   "cell_type": "markdown",
   "metadata": {},
   "source": [
    "## Trying to model the clean dataset"
   ]
  },
  {
   "cell_type": "markdown",
   "metadata": {},
   "source": [
    "### Assemble X (predictors) and y (Target)"
   ]
  },
  {
   "cell_type": "code",
   "execution_count": 5,
   "metadata": {},
   "outputs": [],
   "source": [
    "X1 = train.drop('saleprice',axis=1)\n",
    "y1 = train['saleprice'] "
   ]
  },
  {
   "cell_type": "markdown",
   "metadata": {},
   "source": [
    "### Train/test split"
   ]
  },
  {
   "cell_type": "code",
   "execution_count": 6,
   "metadata": {},
   "outputs": [],
   "source": [
    "X1_train, X1_test, y1_train, y1_test = train_test_split(X1,y1,random_state = 42)"
   ]
  },
  {
   "cell_type": "code",
   "execution_count": 7,
   "metadata": {},
   "outputs": [
    {
     "data": {
      "text/plain": [
       "(513, 208)"
      ]
     },
     "execution_count": 7,
     "metadata": {},
     "output_type": "execute_result"
    }
   ],
   "source": [
    "X1_test.shape"
   ]
  },
  {
   "cell_type": "code",
   "execution_count": 8,
   "metadata": {},
   "outputs": [
    {
     "data": {
      "text/plain": [
       "(513,)"
      ]
     },
     "execution_count": 8,
     "metadata": {},
     "output_type": "execute_result"
    }
   ],
   "source": [
    "y1_test.shape"
   ]
  },
  {
   "cell_type": "markdown",
   "metadata": {},
   "source": [
    "### Instantiate and fit the model"
   ]
  },
  {
   "cell_type": "code",
   "execution_count": 9,
   "metadata": {},
   "outputs": [],
   "source": [
    "lr = LinearRegression()"
   ]
  },
  {
   "cell_type": "code",
   "execution_count": 10,
   "metadata": {},
   "outputs": [
    {
     "data": {
      "text/plain": [
       "LinearRegression()"
      ]
     },
     "execution_count": 10,
     "metadata": {},
     "output_type": "execute_result"
    }
   ],
   "source": [
    "lr.fit(X1_train, y1_train)"
   ]
  },
  {
   "cell_type": "markdown",
   "metadata": {},
   "source": [
    " ### Model evaluation"
   ]
  },
  {
   "cell_type": "code",
   "execution_count": 11,
   "metadata": {},
   "outputs": [
    {
     "name": "stdout",
     "output_type": "stream",
     "text": [
      "R^2 on testing set: 0.9152164958086273\n",
      "R^2 on training set: 0.9303289884943696\n",
      "Cross validation score: 0.8901685783742861\n",
      "\n",
      "RMSE on testing set: 23151.911939337966\n",
      "RMSE on training set: 20904.487247500532\n"
     ]
    }
   ],
   "source": [
    "\n",
    "y1_pred = lr.predict(X1_test)\n",
    "\n",
    "# Check the R^2 and MSE on the training and testing sets.\n",
    "print(f'R^2 on testing set: {lr.score(X1_test,y1_test)}')\n",
    "print(f'R^2 on training set: {lr.score(X1_train,y1_train)}')\n",
    "print(f'Cross validation score: {cross_val_score(lr,X1_train,y1_train,cv=5).mean()}\\n')\n",
    "\n",
    "print(f'RMSE on testing set: {(mean_squared_error(y1_test, y1_pred))**0.5}')\n",
    "print(f'RMSE on training set: {(mean_squared_error(y1_train, lr.predict(X1_train)))**0.5}')"
   ]
  },
  {
   "cell_type": "code",
   "execution_count": 12,
   "metadata": {},
   "outputs": [
    {
     "data": {
      "text/plain": [
       "181479.01805758907"
      ]
     },
     "execution_count": 12,
     "metadata": {},
     "output_type": "execute_result"
    }
   ],
   "source": [
    "train.saleprice.mean()"
   ]
  },
  {
   "cell_type": "code",
   "execution_count": 13,
   "metadata": {
    "scrolled": false
   },
   "outputs": [
    {
     "data": {
      "text/plain": [
       "{('3ssn_porch', 11.679569887677872),\n",
       " ('alley_NA', -377.82180279984186),\n",
       " ('alley_Pave', -2976.621280088221),\n",
       " ('bedroom_abvgr', -3868.8985211590766),\n",
       " ('bldg_type_2fmCon', 29229.655000617102),\n",
       " ('bldg_type_Duplex', -3005.89043547205),\n",
       " ('bldg_type_Twnhs', 1674.9213709690805),\n",
       " ('bldg_type_TwnhsE', 6343.6152900675015),\n",
       " ('bsmt_cond', -5272.368969375966),\n",
       " ('bsmt_exposure', 4383.801323694549),\n",
       " ('bsmt_full_bath', 3300.996749152159),\n",
       " ('bsmt_half_bath', 1237.8128845501426),\n",
       " ('bsmt_qual', 1995.618673325432),\n",
       " ('bsmt_unf_sf', -3.6507460858017566),\n",
       " ('bsmtfin_sf_1', 19.074044497393515),\n",
       " ('bsmtfin_sf_2', 3.8401392807359116),\n",
       " ('bsmtfin_type_1', -492.9928410319873),\n",
       " ('bsmtfin_type_2', 850.8220641163002),\n",
       " ('central_air_Y', -3704.5763792198845),\n",
       " ('condition_1_Feedr', 8477.839410772198),\n",
       " ('condition_1_Norm', 12630.566703802406),\n",
       " ('condition_1_PosA', 18138.22953533703),\n",
       " ('condition_1_PosN', 23316.7753491857),\n",
       " ('condition_1_RRAe', -1734.1899337158795),\n",
       " ('condition_1_RRAn', 6330.638424800717),\n",
       " ('condition_1_RRNe', 6173.76069402983),\n",
       " ('condition_1_RRNn', 54.01245898885056),\n",
       " ('condition_2_Feedr', 12681.469915800588),\n",
       " ('condition_2_Norm', 14767.301561236523),\n",
       " ('condition_2_PosA', 49061.70953325067),\n",
       " ('condition_2_PosN', 12361.192063392326),\n",
       " ('condition_2_RRAe', 6.275513442233205e-11),\n",
       " ('condition_2_RRAn', 15415.484526786453),\n",
       " ('condition_2_RRNn', 17409.82209767792),\n",
       " ('electrical_FuseF', 2566.681145251019),\n",
       " ('electrical_FuseP', 2952.3788636351624),\n",
       " ('electrical_Mix', 3679.75232702158),\n",
       " ('electrical_SBrkr', -1348.927883089259),\n",
       " ('enclosed_porch', 1.5463218099171172),\n",
       " ('exter_cond', -2278.15312465296),\n",
       " ('exter_qual', 9499.428095504425),\n",
       " ('exterior_1st_AsphShn', -29839.966855354654),\n",
       " ('exterior_1st_BrkComm', -55476.201335905156),\n",
       " ('exterior_1st_BrkFace', -6002.0514243705),\n",
       " ('exterior_1st_CBlock', 10060.655627308544),\n",
       " ('exterior_1st_CemntBd', -4119.833416078761),\n",
       " ('exterior_1st_HdBoard', -25233.248689982174),\n",
       " ('exterior_1st_ImStucc', -42299.97024159096),\n",
       " ('exterior_1st_MetalSd', -13847.835737880876),\n",
       " ('exterior_1st_Plywood', -22312.083848690385),\n",
       " ('exterior_1st_Stone', -40253.5507951486),\n",
       " ('exterior_1st_Stucco', -24934.209564065528),\n",
       " ('exterior_1st_VinylSd', -19721.942243572284),\n",
       " ('exterior_1st_Wd Sdng', -26634.303288275638),\n",
       " ('exterior_1st_WdShing', -23387.448991480956),\n",
       " ('exterior_2nd_AsphShn', 50427.96742190533),\n",
       " ('exterior_2nd_Brk Cmn', 25455.782884809556),\n",
       " ('exterior_2nd_BrkFace', 18172.599133958945),\n",
       " ('exterior_2nd_CBlock', 675.833165480512),\n",
       " ('exterior_2nd_CmentBd', 9817.226184349014),\n",
       " ('exterior_2nd_HdBoard', 21603.95557037427),\n",
       " ('exterior_2nd_ImStucc', 23778.195678031145),\n",
       " ('exterior_2nd_MetalSd', 16118.081969789471),\n",
       " ('exterior_2nd_Plywood', 19443.33929847813),\n",
       " ('exterior_2nd_Stone', 20714.259000279926),\n",
       " ('exterior_2nd_Stucco', 21421.53529449811),\n",
       " ('exterior_2nd_VinylSd', 20892.03755297606),\n",
       " ('exterior_2nd_Wd Sdng', 24637.70541050404),\n",
       " ('exterior_2nd_Wd Shng', 20965.323839192835),\n",
       " ('fence', 235.50896367360576),\n",
       " ('fireplace_qu', 355.5262171197983),\n",
       " ('fireplaces', 1346.4913451765776),\n",
       " ('foundation_CBlock', -560.5185203038392),\n",
       " ('foundation_PConc', -91.14782952781947),\n",
       " ('foundation_Slab', 6791.39967142191),\n",
       " ('foundation_Stone', -3549.640586596395),\n",
       " ('foundation_Wood', 2437.492156230074),\n",
       " ('full_bath', 1460.042713422526),\n",
       " ('functional', 5982.704490321318),\n",
       " ('garage_area', 9.495714466354457),\n",
       " ('garage_cars', 3912.7847777621573),\n",
       " ('garage_cond', -1836.5141447493247),\n",
       " ('garage_finish', 624.7471031805022),\n",
       " ('garage_qual', 5851.890492015838),\n",
       " ('garage_type_Attchd', 19690.862676598066),\n",
       " ('garage_type_Basment', 26965.9716790364),\n",
       " ('garage_type_BuiltIn', 24180.364734674808),\n",
       " ('garage_type_CarPort', 28368.727495085863),\n",
       " ('garage_type_Detchd', 22686.400512039545),\n",
       " ('garage_type_NA', -727.3658956163729),\n",
       " ('garage_yr_blt', -22.22053995865042),\n",
       " ('gr_liv_area', 52.194027656549224),\n",
       " ('half_bath', 3301.1555511534953),\n",
       " ('heating_GasW', -6839.766559329978),\n",
       " ('heating_Grav', -21052.000762754207),\n",
       " ('heating_OthW', -47215.45947371139),\n",
       " ('heating_Wall', 8348.785195346309),\n",
       " ('heating_qc', 1128.040130880661),\n",
       " ('house_style_1.5Unf', -6979.550059295685),\n",
       " ('house_style_1Story', 10798.374169871542),\n",
       " ('house_style_2.5Fin', 4249.041161551449),\n",
       " ('house_style_2.5Unf', 5542.758536309072),\n",
       " ('house_style_2Story', 5835.970641149462),\n",
       " ('house_style_SFoyer', 5041.552042373425),\n",
       " ('house_style_SLvl', 16768.981352635983),\n",
       " ('id', -7.028035081376614),\n",
       " ('kitchen_abvgr', -12133.095070830652),\n",
       " ('kitchen_qual', 7143.809886961861),\n",
       " ('land_contour_HLS', 19405.779736058656),\n",
       " ('land_contour_Low', 1500.1739595641807),\n",
       " ('land_contour_Lvl', 4997.722442512583),\n",
       " ('land_slope', 448.1103781035731),\n",
       " ('lot_area', 0.8791804911014491),\n",
       " ('lot_config_CulDSac', 4481.1510902455975),\n",
       " ('lot_config_FR2', -945.6816823751501),\n",
       " ('lot_config_FR3', -23991.11879181426),\n",
       " ('lot_config_Inside', -93.31210981778158),\n",
       " ('lot_shape', 1728.2457675446183),\n",
       " ('mas_vnr_area', 31.5790791070217),\n",
       " ('mas_vnr_type_BrkFace', 5315.8085277809105),\n",
       " ('mas_vnr_type_None', 13077.786284518612),\n",
       " ('mas_vnr_type_Stone', 16485.994161997784),\n",
       " ('misc_feature_NA', -4702.536404191839),\n",
       " ('misc_feature_Othr', 22381.325384669868),\n",
       " ('misc_feature_Shed', -3994.8444098355026),\n",
       " ('misc_feature_TenC', -45525.25546593453),\n",
       " ('misc_val', 0.20462412549431974),\n",
       " ('mo_sold', -117.83500349496887),\n",
       " ('ms_subclass_120', -33046.862084649016),\n",
       " ('ms_subclass_150', -2.2973836166784167e-09),\n",
       " ('ms_subclass_160', -30046.00846374297),\n",
       " ('ms_subclass_180', -24796.386195197232),\n",
       " ('ms_subclass_190', -34365.191873889686),\n",
       " ('ms_subclass_30', 9580.375824417744),\n",
       " ('ms_subclass_40', 9516.364287837445),\n",
       " ('ms_subclass_45', 25630.971466884443),\n",
       " ('ms_subclass_50', 11862.40557337817),\n",
       " ('ms_subclass_60', -1400.8371724457259),\n",
       " ('ms_subclass_70', 5383.9704599616825),\n",
       " ('ms_subclass_75', 20587.722547890273),\n",
       " ('ms_subclass_80', -9033.38258430023),\n",
       " ('ms_subclass_85', -3714.987553942996),\n",
       " ('ms_subclass_90', -3005.890435475206),\n",
       " ('ms_zoning_C (all)', 6392.258052938527),\n",
       " ('ms_zoning_FV', 25984.22741686846),\n",
       " ('ms_zoning_I (all)', 1.0340954759158194e-09),\n",
       " ('ms_zoning_RH', 23691.130153768867),\n",
       " ('ms_zoning_RL', 18061.73334832939),\n",
       " ('ms_zoning_RM', 14363.62857761222),\n",
       " ('neighborhood_Blueste', 7741.504393936433),\n",
       " ('neighborhood_BrDale', 11445.737264957053),\n",
       " ('neighborhood_BrkSide', -1179.1932953597593),\n",
       " ('neighborhood_ClearCr', -4927.329596943643),\n",
       " ('neighborhood_CollgCr', -10155.420189957673),\n",
       " ('neighborhood_Crawfor', 5927.590578474151),\n",
       " ('neighborhood_Edwards', -12216.536537964601),\n",
       " ('neighborhood_Gilbert', -13291.664622542177),\n",
       " ('neighborhood_Greens', 5301.247579970818),\n",
       " ('neighborhood_GrnHill', 130329.21230206972),\n",
       " ('neighborhood_IDOTRR', -6990.212510046952),\n",
       " ('neighborhood_Landmrk', 9391.832972645148),\n",
       " ('neighborhood_MeadowV', -1899.89517052401),\n",
       " ('neighborhood_Mitchel', -2736.0883001605916),\n",
       " ('neighborhood_NAmes', -12656.4984029038),\n",
       " ('neighborhood_NPkVill', 9885.773104354368),\n",
       " ('neighborhood_NWAmes', -15495.978961545301),\n",
       " ('neighborhood_NoRidge', 14608.15039091377),\n",
       " ('neighborhood_NridgHt', 22486.64751880461),\n",
       " ('neighborhood_OldTown', -9355.202124316806),\n",
       " ('neighborhood_SWISU', -7482.088752291521),\n",
       " ('neighborhood_Sawyer', -5709.022636118895),\n",
       " ('neighborhood_SawyerW', -11740.833048226394),\n",
       " ('neighborhood_Somerst', -6770.9114246595545),\n",
       " ('neighborhood_StoneBr', 36822.1180059623),\n",
       " ('neighborhood_Timber', -8384.638283461578),\n",
       " ('neighborhood_Veenker', -20159.86417303975),\n",
       " ('open_porch_sf', 8.818200881942175),\n",
       " ('overall_cond', 5046.799601380445),\n",
       " ('overall_qual', 7660.156873534526),\n",
       " ('paved_drive', 2216.2150055418792),\n",
       " ('pool_area', -4.545462785032896),\n",
       " ('pool_qc', 4223.36827084377),\n",
       " ('roof_matl_Membran', 25917.18187844143),\n",
       " ('roof_matl_Tar&Grv', -9607.2124936194),\n",
       " ('roof_matl_WdShake', 6531.259795976794),\n",
       " ('roof_matl_WdShngl', 52685.70373044484),\n",
       " ('roof_style_Gable', -8557.737034131056),\n",
       " ('roof_style_Gambrel', -10547.893255856883),\n",
       " ('roof_style_Hip', -3703.6066779464445),\n",
       " ('roof_style_Mansard', -44661.926661304096),\n",
       " ('roof_style_Shed', -23422.447424602065),\n",
       " ('sale_type_CWD', 8388.356854401087),\n",
       " ('sale_type_Con', 46945.757578457786),\n",
       " ('sale_type_ConLD', 12978.809918561172),\n",
       " ('sale_type_ConLI', -28850.357335503322),\n",
       " ('sale_type_ConLw', -2044.9615013799005),\n",
       " ('sale_type_New', 22606.051964503553),\n",
       " ('sale_type_Oth', 20079.95134503429),\n",
       " ('sale_type_WD ', 4123.703534868149),\n",
       " ('screen_porch', 71.69342151536966),\n",
       " ('street_Pave', 12951.903709148184),\n",
       " ('total_bsmt_sf', 19.263435410355044),\n",
       " ('totrms_abvgrd', 1567.659088910956),\n",
       " ('utilities', -6.438451123358391e-07),\n",
       " ('wood_deck_sf', 10.320879023052157),\n",
       " ('year_built', 348.62602136363466),\n",
       " ('year_remod/add', 27.59531888419542),\n",
       " ('yr_sold', -4438.8937378758355)}"
      ]
     },
     "execution_count": 13,
     "metadata": {},
     "output_type": "execute_result"
    }
   ],
   "source": [
    "set(zip(X1.columns, lr.coef_))"
   ]
  },
  {
   "cell_type": "markdown",
   "metadata": {},
   "source": [
    "### Interpretation\n",
    "\n",
    "Lets compare the $R^2$ of both tests:\n",
    "- The $R^2$ score for both sets are very high, 0.91 for testing and 0.93 for training.\n",
    "- The score represents that 91% / 93% of _saleprice_ is explained by the _x_-variables in our model.\n",
    "- This is expected as we used all of the columns provided.\n",
    "- The Test and Cross Val are pretty similar, which indicates that it is a representative of the test set.\n",
    "\n",
    "Let us look at the Root Mean Square Error,$RMSE$. \n",
    "- $RMSE$ represents the (approximately) average distance from the predicted value.\n",
    "- The $RMSE$ for the training set is USD 20,904 (rounded), this means that we have an error of the $RMSE$ from the mean which is USD 181,479(rounded).\n",
    "- The $RMSE$ for the test set is slightly higher at USD 23,161.\n",
    "- The goal is to make $RMSE$ as low as possible so that the model will have a better accuracy of the saleprice.\n",
    "\n",
    "The interpretation for variables is as follows:\n",
    "- The variables were catergorized into:\n",
    "    1. Discrete:\n",
    "        - Example: bsmt_full_bath', 3300.996749152159\n",
    "        - Holding all other variables constant, for every full bathroom in the basement, saleprice will increase by USD 3300\n",
    "    2. Continuous:\n",
    "        - Example: 'lot_area', 0.8791804911014491\n",
    "        - Holding all other variables constant, for every unit increase in lot size, saleprice will increase by USD 0.87\n",
    "    3. Ordinal: (Ordinal variables are variables with a natural order. We ranked the variables with 0 being not applicable and start with 1 being the lowest tier category) \n",
    "        - Example: 'lot_shape', 1728.2457675446183\n",
    "        - Holding all other variables constant, for each increase in the tier, saleprice will increase by USD 1728.24\n",
    "    4. Nominal: (Nominal variables are variables without a natural order.)\n",
    "        - Example: 'neighborhood_Blueste', 7741.504393936433\n",
    "        - Holding all other variables constant, if a house is in the neighbourhood, Bluestem, the saleprice will increase by USD 7741.50\n",
    "        \n",
    "        \n",
    "**As good as the scores seems, this is definitely an overfitted model as we used all the features for the model.**"
   ]
  },
  {
   "cell_type": "markdown",
   "metadata": {},
   "source": [
    "### Modifying Predictors"
   ]
  },
  {
   "cell_type": "markdown",
   "metadata": {},
   "source": [
    "I have decided to only select features with correlation of 0.5< & -0.5>\n",
    "\n",
    "These are the features and their corr:\n",
    "\n",
    "\n",
    "|Features|Correlation|\n",
    "|---|---|\n",
    "|overall_qual|0.803462|\n",
    "|gr_liv_area|0.719463|\n",
    "|exter_qual|0.715048|\n",
    "|kitchen_qual|0.694295|\n",
    "|total_bsmt_sf|0.665116|\n",
    "|garage_area|0.655097|\n",
    "|garage_cars|0.648227|\n",
    "|bsmt_qual|0.613236|\n",
    "|year_built|0.572405|\n",
    "|garage_finish|0.558566|\n",
    "|year_remod/add|0.550872|\n",
    "|fireplace_qu|0.539484|\n",
    "|full_bath|0.538225|\n",
    "|foundation_PConc|0.529500|\n",
    "|mas_vnr_area|0.511273|\n",
    "|totrms_abvgrd|0.509775|\n"
   ]
  },
  {
   "cell_type": "code",
   "execution_count": 14,
   "metadata": {
    "scrolled": true
   },
   "outputs": [
    {
     "data": {
      "text/plain": [
       "saleprice               1.000000\n",
       "overall_qual            0.803462\n",
       "gr_liv_area             0.719463\n",
       "exter_qual              0.715048\n",
       "kitchen_qual            0.694295\n",
       "total_bsmt_sf           0.665116\n",
       "garage_area             0.655097\n",
       "garage_cars             0.648227\n",
       "bsmt_qual               0.613236\n",
       "year_built              0.572405\n",
       "garage_finish           0.558566\n",
       "year_remod/add          0.550872\n",
       "fireplace_qu            0.539484\n",
       "full_bath               0.538225\n",
       "foundation_PConc        0.529500\n",
       "mas_vnr_area            0.511273\n",
       "totrms_abvgrd           0.509775\n",
       "fireplaces              0.473783\n",
       "heating_qc              0.458636\n",
       "neighborhood_NridgHt    0.448639\n",
       "bsmtfin_sf_1            0.446103\n",
       "bsmt_exposure           0.426134\n",
       "sale_type_New           0.360599\n",
       "garage_type_Attchd      0.358104\n",
       "ms_subclass_60          0.356092\n",
       "bsmtfin_type_1          0.350728\n",
       "exterior_1st_VinylSd    0.342156\n",
       "open_porch_sf           0.338545\n",
       "exterior_2nd_VinylSd    0.337571\n",
       "wood_deck_sf            0.327629\n",
       "mas_vnr_type_Stone      0.312137\n",
       "lot_area                0.303744\n",
       "paved_drive             0.289267\n",
       "garage_qual             0.285328\n",
       "bsmt_full_bath          0.284433\n",
       "half_bath               0.283372\n",
       "central_air_Y           0.277425\n",
       "roof_style_Hip          0.266010\n",
       "garage_cond             0.265066\n",
       "neighborhood_NoRidge    0.263385\n",
       "garage_yr_blt           0.258697\n",
       "mas_vnr_type_BrkFace    0.257884\n",
       "neighborhood_StoneBr    0.256968\n",
       "electrical_SBrkr        0.254098\n",
       "ms_zoning_RL            0.231567\n",
       "bsmt_cond               0.225096\n",
       "garage_type_BuiltIn     0.219800\n",
       "land_contour_HLS        0.212229\n",
       "house_style_2Story      0.202270\n",
       "bsmt_unf_sf             0.190883\n",
       "exterior_1st_CemntBd    0.168318\n",
       "lot_config_CulDSac      0.162408\n",
       "exterior_2nd_CmentBd    0.157748\n",
       "neighborhood_Somerst    0.150056\n",
       "bedroom_abvgr           0.137145\n",
       "alley_NA                0.135093\n",
       "screen_porch            0.134555\n",
       "functional              0.125714\n",
       "neighborhood_Timber     0.116385\n",
       "condition_1_Norm        0.111199\n",
       "condition_1_PosN        0.106866\n",
       "ms_zoning_FV            0.106673\n",
       "condition_2_PosN        0.103456\n",
       "condition_2_PosA        0.101041\n",
       "ms_subclass_120         0.100408\n",
       "roof_matl_WdShngl       0.098523\n",
       "neighborhood_Veenker    0.083177\n",
       "neighborhood_CollgCr    0.082278\n",
       "condition_1_PosA        0.070922\n",
       "street_Pave             0.069850\n",
       "bldg_type_TwnhsE        0.062007\n",
       "neighborhood_Crawfor    0.058365\n",
       "neighborhood_ClearCr    0.052491\n",
       "misc_feature_NA         0.048937\n",
       "3ssn_porch              0.048721\n",
       "roof_matl_WdShake       0.046176\n",
       "exterior_2nd_ImStucc    0.042623\n",
       "house_style_2.5Fin      0.042511\n",
       "neighborhood_GrnHill    0.038845\n",
       "exter_cond              0.036393\n",
       "pool_qc                 0.035535\n",
       "neighborhood_NWAmes     0.034903\n",
       "sale_type_Con           0.033656\n",
       "land_contour_Low        0.032936\n",
       "mo_sold                 0.032508\n",
       "exterior_1st_Stone      0.030368\n",
       "utilities               0.026408\n",
       "exterior_1st_BrkFace    0.026220\n",
       "ms_subclass_75          0.026181\n",
       "pool_area               0.025805\n",
       "neighborhood_Gilbert    0.023946\n",
       "exterior_1st_ImStucc    0.022444\n",
       "sale_type_ConLI         0.019582\n",
       "misc_feature_TenC       0.019099\n",
       "roof_matl_Membran       0.016730\n",
       "neighborhood_SawyerW    0.016684\n",
       "bsmtfin_sf_2            0.016398\n",
       "lot_config_FR3          0.014345\n",
       "bsmtfin_type_2          0.014037\n",
       "roof_style_Shed         0.013132\n",
       "condition_1_RRNn        0.011436\n",
       "house_style_2.5Unf      0.010783\n",
       "exterior_2nd_BrkFace    0.010673\n",
       "roof_matl_Tar&Grv       0.007008\n",
       "sale_type_CWD           0.004555\n",
       "neighborhood_Greens     0.003472\n",
       "condition_2_RRAe        0.002375\n",
       "foundation_Wood        -0.003047\n",
       "misc_feature_Othr      -0.008845\n",
       "ms_subclass_150        -0.009220\n",
       "condition_2_Norm       -0.009746\n",
       "misc_val               -0.010323\n",
       "neighborhood_Landmrk   -0.012398\n",
       "condition_2_RRAn       -0.012424\n",
       "alley_Pave             -0.014548\n",
       "lot_config_FR2         -0.014844\n",
       "condition_1_RRAn       -0.014970\n",
       "yr_sold                -0.015174\n",
       "roof_style_Mansard     -0.021297\n",
       "house_style_1Story     -0.021813\n",
       "heating_OthW           -0.021973\n",
       "exterior_2nd_AsphShn   -0.023839\n",
       "foundation_Stone       -0.023859\n",
       "exterior_1st_BrkComm   -0.024382\n",
       "exterior_2nd_Stone     -0.024649\n",
       "condition_1_RRNe       -0.025050\n",
       "neighborhood_Blueste   -0.025233\n",
       "exterior_1st_AsphShn   -0.027624\n",
       "sale_type_Oth          -0.030115\n",
       "ms_subclass_80         -0.031443\n",
       "electrical_Mix         -0.031909\n",
       "condition_2_RRNn       -0.033407\n",
       "ms_zoning_RH           -0.034128\n",
       "ms_zoning_I (all)      -0.034522\n",
       "ms_subclass_40         -0.034786\n",
       "exterior_1st_CBlock    -0.034787\n",
       "exterior_2nd_CBlock    -0.035280\n",
       "sale_type_ConLw        -0.035486\n",
       "neighborhood_Mitchel   -0.035599\n",
       "heating_GasW           -0.037826\n",
       "exterior_1st_Plywood   -0.039161\n",
       "ms_subclass_85         -0.040208\n",
       "roof_style_Gambrel     -0.041893\n",
       "house_style_SLvl       -0.042126\n",
       "bsmt_half_bath         -0.045534\n",
       "neighborhood_NPkVill   -0.047307\n",
       "misc_feature_Shed      -0.047440\n",
       "exterior_2nd_Brk Cmn   -0.047905\n",
       "condition_2_Feedr      -0.048465\n",
       "exterior_1st_WdShing   -0.048885\n",
       "exterior_2nd_Stucco    -0.051655\n",
       "condition_1_RRAe       -0.053646\n",
       "garage_type_Basment    -0.055735\n",
       "land_slope             -0.057967\n",
       "exterior_2nd_Plywood   -0.059582\n",
       "ms_subclass_45         -0.060335\n",
       "sale_type_ConLD        -0.060443\n",
       "exterior_1st_Stucco    -0.060842\n",
       "exterior_2nd_Wd Shng   -0.061187\n",
       "house_style_SFoyer     -0.064108\n",
       "ms_subclass_180        -0.066544\n",
       "house_style_1.5Unf     -0.066815\n",
       "heating_Wall           -0.071318\n",
       "garage_type_CarPort    -0.071965\n",
       "electrical_FuseP       -0.072372\n",
       "heating_Grav           -0.072556\n",
       "neighborhood_SWISU     -0.074230\n",
       "ms_subclass_70         -0.076041\n",
       "lot_config_Inside      -0.082485\n",
       "land_contour_Lvl       -0.093587\n",
       "neighborhood_BrDale    -0.095319\n",
       "overall_cond           -0.097093\n",
       "exterior_2nd_HdBoard   -0.102518\n",
       "bldg_type_Duplex       -0.103716\n",
       "ms_subclass_90         -0.103716\n",
       "ms_subclass_190        -0.109283\n",
       "bldg_type_2fmCon       -0.111444\n",
       "neighborhood_MeadowV   -0.111573\n",
       "bldg_type_Twnhs        -0.113921\n",
       "condition_1_Feedr      -0.114290\n",
       "exterior_1st_HdBoard   -0.114392\n",
       "ms_subclass_160        -0.114973\n",
       "foundation_Slab        -0.119070\n",
       "kitchen_abvgr          -0.125472\n",
       "ms_zoning_C (all)      -0.126267\n",
       "electrical_FuseF       -0.129372\n",
       "neighborhood_Sawyer    -0.133726\n",
       "neighborhood_BrkSide   -0.134818\n",
       "enclosed_porch         -0.135713\n",
       "exterior_2nd_MetalSd   -0.139405\n",
       "exterior_1st_MetalSd   -0.149919\n",
       "fence                  -0.159136\n",
       "exterior_2nd_Wd Sdng   -0.173032\n",
       "neighborhood_Edwards   -0.176848\n",
       "ms_subclass_50         -0.182388\n",
       "neighborhood_IDOTRR    -0.189266\n",
       "neighborhood_NAmes     -0.189456\n",
       "exterior_1st_Wd Sdng   -0.191799\n",
       "neighborhood_OldTown   -0.208418\n",
       "sale_type_WD           -0.213536\n",
       "garage_type_NA         -0.231030\n",
       "ms_subclass_30         -0.248572\n",
       "roof_style_Gable       -0.250019\n",
       "ms_zoning_RM           -0.282032\n",
       "lot_shape              -0.296743\n",
       "foundation_CBlock      -0.355768\n",
       "garage_type_Detchd     -0.370485\n",
       "mas_vnr_type_None      -0.411630\n",
       "Name: saleprice, dtype: float64"
      ]
     },
     "execution_count": 14,
     "metadata": {},
     "output_type": "execute_result"
    }
   ],
   "source": [
    "train.corr().saleprice.sort_values(ascending=False)"
   ]
  },
  {
   "cell_type": "code",
   "execution_count": 15,
   "metadata": {},
   "outputs": [],
   "source": [
    "X_base = train[['overall_qual',\n",
    "'gr_liv_area',\n",
    "'exter_qual',\n",
    "'kitchen_qual',\n",
    "'total_bsmt_sf',\n",
    "'garage_area',\n",
    "'garage_cars',\n",
    "'bsmt_qual',\n",
    "'year_built',\n",
    "'garage_finish',\n",
    "'year_remod/add',\n",
    "'fireplace_qu',\n",
    "'full_bath',\n",
    "'foundation_PConc',\n",
    "'mas_vnr_area',\n",
    "'totrms_abvgrd']]"
   ]
  },
  {
   "cell_type": "code",
   "execution_count": 16,
   "metadata": {},
   "outputs": [
    {
     "data": {
      "image/png": "[encoded data removed]",
      "text/plain": [
       "<Figure size 720x720 with 2 Axes>"
      ]
     },
     "metadata": {
      "needs_background": "light"
     },
     "output_type": "display_data"
    }
   ],
   "source": [
    "# Checking for Independence within predictors\n",
    "plt.figure(figsize=(10,10))\n",
    "sns.heatmap(X_base.corr(),annot=True, mask = np.triu(X_base.corr()))\n",
    "plt.title('Heatmap of Correlation between new predictors')\n",
    "plt.savefig(\"../images/Modifying_pred_Corr\",bbox_inches='tight')"
   ]
  },
  {
   "cell_type": "markdown",
   "metadata": {},
   "source": [
    "There are some variables that have very high correlation:\n",
    "   - Overall quality with External quality at 0.74\n",
    "   - Overall quality with kitchen quality is 0.69\n",
    "   - Overall quality with Basement quality is 0.65\n",
    "   - Overall quality with Fireplace quality is 0.48\n",
    "   \n",
    "   \n",
    " I will only retain overall quality as they are all pointing to quality and assuming that overall quality has all the other quality variables callibrated into it.\n",
    " \n",
    "   \n",
    "   - Garage area and garage cars at 0.90\n",
    " \n",
    " \n",
    " I will retain garage area as both are pointing to the size of the garage.\n",
    "\n",
    "\n",
    "   - Year Built and Year remod/add at 0.63\n",
    "\n",
    "I will retain year remod/add as it contains the updated year that the house has last been remod/add. I have ensure that if there were no remod/add done, it will retain as the year that was built. (Refer to index 7 at the table below.)\n",
    "\n",
    " There seem to be a high correlation between **'Total rooms above grade'** and **'Above grade (ground) living area square feet'**. However,  it is also possible to have less rooms with huge area spaces and vice versa, therefore I will retain both variables."
   ]
  },
  {
   "cell_type": "code",
   "execution_count": 17,
   "metadata": {},
   "outputs": [
    {
     "data": {
      "text/html": [
       "<div>\n",
       "<style scoped>\n",
       "    .dataframe tbody tr th:only-of-type {\n",
       "        vertical-align: middle;\n",
       "    }\n",
       "\n",
       "    .dataframe tbody tr th {\n",
       "        vertical-align: top;\n",
       "    }\n",
       "\n",
       "    .dataframe thead th {\n",
       "        text-align: right;\n",
       "    }\n",
       "</style>\n",
       "<table border=\"1\" class=\"dataframe\">\n",
       "  <thead>\n",
       "    <tr style=\"text-align: right;\">\n",
       "      <th></th>\n",
       "      <th>year_built</th>\n",
       "      <th>year_remod/add</th>\n",
       "    </tr>\n",
       "  </thead>\n",
       "  <tbody>\n",
       "    <tr>\n",
       "      <th>0</th>\n",
       "      <td>1976</td>\n",
       "      <td>2005</td>\n",
       "    </tr>\n",
       "    <tr>\n",
       "      <th>1</th>\n",
       "      <td>1996</td>\n",
       "      <td>1997</td>\n",
       "    </tr>\n",
       "    <tr>\n",
       "      <th>2</th>\n",
       "      <td>1953</td>\n",
       "      <td>2007</td>\n",
       "    </tr>\n",
       "    <tr>\n",
       "      <th>3</th>\n",
       "      <td>2006</td>\n",
       "      <td>2007</td>\n",
       "    </tr>\n",
       "    <tr>\n",
       "      <th>4</th>\n",
       "      <td>1900</td>\n",
       "      <td>1993</td>\n",
       "    </tr>\n",
       "    <tr>\n",
       "      <th>5</th>\n",
       "      <td>1966</td>\n",
       "      <td>2002</td>\n",
       "    </tr>\n",
       "    <tr>\n",
       "      <th>6</th>\n",
       "      <td>2005</td>\n",
       "      <td>2006</td>\n",
       "    </tr>\n",
       "    <tr>\n",
       "      <th>7</th>\n",
       "      <td>1959</td>\n",
       "      <td>1959</td>\n",
       "    </tr>\n",
       "  </tbody>\n",
       "</table>\n",
       "</div>"
      ],
      "text/plain": [
       "   year_built  year_remod/add\n",
       "0        1976            2005\n",
       "1        1996            1997\n",
       "2        1953            2007\n",
       "3        2006            2007\n",
       "4        1900            1993\n",
       "5        1966            2002\n",
       "6        2005            2006\n",
       "7        1959            1959"
      ]
     },
     "execution_count": 17,
     "metadata": {},
     "output_type": "execute_result"
    }
   ],
   "source": [
    "X_base[['year_built','year_remod/add']].head(8)"
   ]
  },
  {
   "cell_type": "code",
   "execution_count": 18,
   "metadata": {},
   "outputs": [
    {
     "data": {
      "image/png": "[encoded data removed]",
      "text/plain": [
       "<Figure size 432x288 with 1 Axes>"
      ]
     },
     "metadata": {
      "needs_background": "light"
     },
     "output_type": "display_data"
    }
   ],
   "source": [
    "plt.title('No. of rooms vs Area space above ground')\n",
    "plt.xlabel('No. of rooms')\n",
    "plt.ylabel('Living area space')\n",
    "plt.scatter(x ='totrms_abvgrd', y = 'gr_liv_area',data = X_base);"
   ]
  },
  {
   "cell_type": "code",
   "execution_count": 19,
   "metadata": {},
   "outputs": [],
   "source": [
    "X_base = train[['overall_qual',\n",
    "'gr_liv_area',\n",
    "'total_bsmt_sf',\n",
    "'garage_area',\n",
    "'garage_finish',\n",
    "'year_remod/add',\n",
    "'full_bath',\n",
    "'foundation_PConc',\n",
    "'mas_vnr_area',\n",
    "'totrms_abvgrd']]\n",
    "y_base = train['saleprice']"
   ]
  },
  {
   "cell_type": "code",
   "execution_count": 20,
   "metadata": {
    "scrolled": false
   },
   "outputs": [
    {
     "data": {
      "image/png": "[encoded data removed]",
      "text/plain": [
       "<Figure size 720x720 with 12 Axes>"
      ]
     },
     "metadata": {
      "needs_background": "light"
     },
     "output_type": "display_data"
    }
   ],
   "source": [
    "#Checking for Normality\n",
    "X_base.hist(figsize=(10,10));\n",
    "plt.savefig(\"../images/Modifying_pred_normality\",bbox_inches='tight')"
   ]
  },
  {
   "cell_type": "code",
   "execution_count": 21,
   "metadata": {
    "scrolled": true
   },
   "outputs": [
    {
     "data": {
      "text/html": [
       "<div>\n",
       "<style scoped>\n",
       "    .dataframe tbody tr th:only-of-type {\n",
       "        vertical-align: middle;\n",
       "    }\n",
       "\n",
       "    .dataframe tbody tr th {\n",
       "        vertical-align: top;\n",
       "    }\n",
       "\n",
       "    .dataframe thead th {\n",
       "        text-align: right;\n",
       "    }\n",
       "</style>\n",
       "<table border=\"1\" class=\"dataframe\">\n",
       "  <thead>\n",
       "    <tr style=\"text-align: right;\">\n",
       "      <th></th>\n",
       "      <th>overall_qual</th>\n",
       "      <th>gr_liv_area</th>\n",
       "      <th>total_bsmt_sf</th>\n",
       "      <th>garage_area</th>\n",
       "      <th>garage_finish</th>\n",
       "      <th>year_remod/add</th>\n",
       "      <th>full_bath</th>\n",
       "      <th>foundation_PConc</th>\n",
       "      <th>mas_vnr_area</th>\n",
       "      <th>totrms_abvgrd</th>\n",
       "    </tr>\n",
       "  </thead>\n",
       "  <tbody>\n",
       "    <tr>\n",
       "      <th>count</th>\n",
       "      <td>2049.000000</td>\n",
       "      <td>2049.000000</td>\n",
       "      <td>2049.000000</td>\n",
       "      <td>2049.000000</td>\n",
       "      <td>2049.000000</td>\n",
       "      <td>2049.000000</td>\n",
       "      <td>2049.000000</td>\n",
       "      <td>2049.000000</td>\n",
       "      <td>2049.000000</td>\n",
       "      <td>2049.000000</td>\n",
       "    </tr>\n",
       "    <tr>\n",
       "      <th>mean</th>\n",
       "      <td>6.108346</td>\n",
       "      <td>1495.553441</td>\n",
       "      <td>1053.035627</td>\n",
       "      <td>472.647633</td>\n",
       "      <td>1.721816</td>\n",
       "      <td>1984.166423</td>\n",
       "      <td>1.576867</td>\n",
       "      <td>0.450952</td>\n",
       "      <td>97.736945</td>\n",
       "      <td>6.428990</td>\n",
       "    </tr>\n",
       "    <tr>\n",
       "      <th>std</th>\n",
       "      <td>1.421780</td>\n",
       "      <td>485.783577</td>\n",
       "      <td>426.814420</td>\n",
       "      <td>214.703467</td>\n",
       "      <td>0.898522</td>\n",
       "      <td>21.032785</td>\n",
       "      <td>0.549389</td>\n",
       "      <td>0.497710</td>\n",
       "      <td>171.936400</td>\n",
       "      <td>1.544572</td>\n",
       "    </tr>\n",
       "    <tr>\n",
       "      <th>min</th>\n",
       "      <td>1.000000</td>\n",
       "      <td>334.000000</td>\n",
       "      <td>0.000000</td>\n",
       "      <td>0.000000</td>\n",
       "      <td>0.000000</td>\n",
       "      <td>1950.000000</td>\n",
       "      <td>0.000000</td>\n",
       "      <td>0.000000</td>\n",
       "      <td>0.000000</td>\n",
       "      <td>2.000000</td>\n",
       "    </tr>\n",
       "    <tr>\n",
       "      <th>25%</th>\n",
       "      <td>5.000000</td>\n",
       "      <td>1128.000000</td>\n",
       "      <td>793.000000</td>\n",
       "      <td>319.000000</td>\n",
       "      <td>1.000000</td>\n",
       "      <td>1964.000000</td>\n",
       "      <td>1.000000</td>\n",
       "      <td>0.000000</td>\n",
       "      <td>0.000000</td>\n",
       "      <td>5.000000</td>\n",
       "    </tr>\n",
       "    <tr>\n",
       "      <th>50%</th>\n",
       "      <td>6.000000</td>\n",
       "      <td>1444.000000</td>\n",
       "      <td>994.000000</td>\n",
       "      <td>480.000000</td>\n",
       "      <td>2.000000</td>\n",
       "      <td>1993.000000</td>\n",
       "      <td>2.000000</td>\n",
       "      <td>0.000000</td>\n",
       "      <td>0.000000</td>\n",
       "      <td>6.000000</td>\n",
       "    </tr>\n",
       "    <tr>\n",
       "      <th>75%</th>\n",
       "      <td>7.000000</td>\n",
       "      <td>1728.000000</td>\n",
       "      <td>1317.000000</td>\n",
       "      <td>576.000000</td>\n",
       "      <td>2.000000</td>\n",
       "      <td>2004.000000</td>\n",
       "      <td>2.000000</td>\n",
       "      <td>1.000000</td>\n",
       "      <td>158.000000</td>\n",
       "      <td>7.000000</td>\n",
       "    </tr>\n",
       "    <tr>\n",
       "      <th>max</th>\n",
       "      <td>10.000000</td>\n",
       "      <td>3820.000000</td>\n",
       "      <td>3206.000000</td>\n",
       "      <td>1356.000000</td>\n",
       "      <td>3.000000</td>\n",
       "      <td>2010.000000</td>\n",
       "      <td>4.000000</td>\n",
       "      <td>1.000000</td>\n",
       "      <td>1600.000000</td>\n",
       "      <td>14.000000</td>\n",
       "    </tr>\n",
       "  </tbody>\n",
       "</table>\n",
       "</div>"
      ],
      "text/plain": [
       "       overall_qual  gr_liv_area  total_bsmt_sf  garage_area  garage_finish  \\\n",
       "count   2049.000000  2049.000000    2049.000000  2049.000000    2049.000000   \n",
       "mean       6.108346  1495.553441    1053.035627   472.647633       1.721816   \n",
       "std        1.421780   485.783577     426.814420   214.703467       0.898522   \n",
       "min        1.000000   334.000000       0.000000     0.000000       0.000000   \n",
       "25%        5.000000  1128.000000     793.000000   319.000000       1.000000   \n",
       "50%        6.000000  1444.000000     994.000000   480.000000       2.000000   \n",
       "75%        7.000000  1728.000000    1317.000000   576.000000       2.000000   \n",
       "max       10.000000  3820.000000    3206.000000  1356.000000       3.000000   \n",
       "\n",
       "       year_remod/add    full_bath  foundation_PConc  mas_vnr_area  \\\n",
       "count     2049.000000  2049.000000       2049.000000   2049.000000   \n",
       "mean      1984.166423     1.576867          0.450952     97.736945   \n",
       "std         21.032785     0.549389          0.497710    171.936400   \n",
       "min       1950.000000     0.000000          0.000000      0.000000   \n",
       "25%       1964.000000     1.000000          0.000000      0.000000   \n",
       "50%       1993.000000     2.000000          0.000000      0.000000   \n",
       "75%       2004.000000     2.000000          1.000000    158.000000   \n",
       "max       2010.000000     4.000000          1.000000   1600.000000   \n",
       "\n",
       "       totrms_abvgrd  \n",
       "count    2049.000000  \n",
       "mean        6.428990  \n",
       "std         1.544572  \n",
       "min         2.000000  \n",
       "25%         5.000000  \n",
       "50%         6.000000  \n",
       "75%         7.000000  \n",
       "max        14.000000  "
      ]
     },
     "execution_count": 21,
     "metadata": {},
     "output_type": "execute_result"
    }
   ],
   "source": [
    "X_base.describe()"
   ]
  },
  {
   "cell_type": "code",
   "execution_count": 22,
   "metadata": {},
   "outputs": [
    {
     "name": "stdout",
     "output_type": "stream",
     "text": [
      "<class 'pandas.core.frame.DataFrame'>\n",
      "RangeIndex: 2049 entries, 0 to 2048\n",
      "Data columns (total 10 columns):\n",
      " #   Column            Non-Null Count  Dtype  \n",
      "---  ------            --------------  -----  \n",
      " 0   overall_qual      2049 non-null   int64  \n",
      " 1   gr_liv_area       2049 non-null   int64  \n",
      " 2   total_bsmt_sf     2049 non-null   float64\n",
      " 3   garage_area       2049 non-null   float64\n",
      " 4   garage_finish     2049 non-null   int64  \n",
      " 5   year_remod/add    2049 non-null   int64  \n",
      " 6   full_bath         2049 non-null   int64  \n",
      " 7   foundation_PConc  2049 non-null   int64  \n",
      " 8   mas_vnr_area      2049 non-null   float64\n",
      " 9   totrms_abvgrd     2049 non-null   int64  \n",
      "dtypes: float64(3), int64(7)\n",
      "memory usage: 160.2 KB\n"
     ]
    }
   ],
   "source": [
    "X_base.info()"
   ]
  },
  {
   "cell_type": "code",
   "execution_count": 23,
   "metadata": {},
   "outputs": [
    {
     "data": {
      "image/png": "[encoded data removed]",
      "text/plain": [
       "<Figure size 720x720 with 2 Axes>"
      ]
     },
     "metadata": {
      "needs_background": "light"
     },
     "output_type": "display_data"
    }
   ],
   "source": [
    "plt.figure(figsize=(10,10))\n",
    "sns.heatmap(X_base.corr(),annot=True,mask=np.triu(X_base.corr()))\n",
    "plt.title('Heatmap of finalize predictors')\n",
    "plt.savefig(\"../images/Finalize_pred_Corr\",bbox_inches='tight')"
   ]
  },
  {
   "cell_type": "markdown",
   "metadata": {},
   "source": [
    "### Finalize Predictors"
   ]
  },
  {
   "cell_type": "markdown",
   "metadata": {},
   "source": [
    "|Features|Correlation|\n",
    "|---|---|\n",
    "|overall_qual|0.803462|\n",
    "|gr_liv_area|0.719463|\n",
    "|total_bsmt_sf|0.665116|\n",
    "|garage_area|0.655097|\n",
    "|garage_finish|0.558566|\n",
    "|year_remod/add|0.550872|\n",
    "|full_bath|0.538225|\n",
    "|foundation_PConc|0.529500|\n",
    "|mas_vnr_area|0.511273|\n",
    "|totrms_abvgrd|0.509775|"
   ]
  },
  {
   "cell_type": "markdown",
   "metadata": {},
   "source": [
    "### Assemble Predictors(X) and Target(y)"
   ]
  },
  {
   "cell_type": "code",
   "execution_count": 24,
   "metadata": {},
   "outputs": [],
   "source": [
    "X_base = train[['overall_qual',\n",
    "'gr_liv_area',\n",
    "'total_bsmt_sf',\n",
    "'garage_area',\n",
    "'garage_finish',\n",
    "'year_remod/add',\n",
    "'full_bath',\n",
    "'foundation_PConc',\n",
    "'mas_vnr_area',\n",
    "'totrms_abvgrd']]\n",
    "y_base = train['saleprice']"
   ]
  },
  {
   "cell_type": "markdown",
   "metadata": {},
   "source": [
    "## Model 1: Baseline Model"
   ]
  },
  {
   "cell_type": "markdown",
   "metadata": {},
   "source": [
    "### Train and split the model"
   ]
  },
  {
   "cell_type": "code",
   "execution_count": 25,
   "metadata": {},
   "outputs": [],
   "source": [
    "Xbase_train, Xbase_test, ybase_train, ybase_test = train_test_split(X_base,y_base,random_state = 42)"
   ]
  },
  {
   "cell_type": "markdown",
   "metadata": {},
   "source": [
    "### Instantiate and fit the model"
   ]
  },
  {
   "cell_type": "code",
   "execution_count": 26,
   "metadata": {},
   "outputs": [],
   "source": [
    "lr = LinearRegression()"
   ]
  },
  {
   "cell_type": "code",
   "execution_count": 27,
   "metadata": {},
   "outputs": [
    {
     "data": {
      "text/plain": [
       "LinearRegression()"
      ]
     },
     "execution_count": 27,
     "metadata": {},
     "output_type": "execute_result"
    }
   ],
   "source": [
    "lr.fit(Xbase_train, ybase_train)"
   ]
  },
  {
   "cell_type": "markdown",
   "metadata": {},
   "source": [
    "### Model Evaluation"
   ]
  },
  {
   "cell_type": "code",
   "execution_count": 28,
   "metadata": {},
   "outputs": [
    {
     "name": "stdout",
     "output_type": "stream",
     "text": [
      "R^2 on testing set: 0.8593202562187927\n",
      "R^2 on training set: 0.8311693817802799\n",
      "Cross validation score: 0.8234376395240257\n",
      "\n",
      "RMSE on testing set: 29822.700359061968\n",
      "RMSE on training set: 32541.61232785688\n"
     ]
    }
   ],
   "source": [
    "ybase_pred = lr.predict(Xbase_test)\n",
    "\n",
    "# Check the R^2 RMSE on the training and testing sets.\n",
    "print(f'R^2 on testing set: {lr.score(Xbase_test,ybase_test)}')\n",
    "print(f'R^2 on training set: {lr.score(Xbase_train,ybase_train)}')\n",
    "print(f'Cross validation score: {cross_val_score(lr,Xbase_train,ybase_train,cv=10).mean()}\\n')\n",
    "\n",
    "print(f'RMSE on testing set: {(mean_squared_error(ybase_test, ybase_pred))**0.5}')\n",
    "print(f'RMSE on training set: {(mean_squared_error(ybase_train, lr.predict(Xbase_train)))**0.5}')"
   ]
  },
  {
   "cell_type": "markdown",
   "metadata": {},
   "source": [
    "Lets compare the $R^2$ of both tests:\n",
    "- The $R^2$ score for both sets are high, 0.86 for testing and 0.83 for training.\n",
    "- The score represents that 86% / 83% of _saleprice_ is explained by the _x_-variables in our model.\n",
    "- The Test and Cross Val are pretty similar, which indicates that it is a representative of the test set.\n",
    "\n",
    "Let us look at the Root Mean Square Error,$RMSE$. \n",
    "- $RMSE$ represents the (approximately) average distance from the predicted value.\n",
    "- The $RMSE$ for the training set is USD 31,904 (rounded), this means that we have an error of the $RMSE$ from the mean which is USD 181,479(rounded).\n",
    "- The $RMSE$ for the test set is slightly lower at USD 29779.\n",
    "- The goal is to make $RMSE$ as low as possible so that the model will have a better accuracy of the saleprice.\n",
    "\n",
    "Let us try creating some interaction terms and scale to see if the model works better"
   ]
  },
  {
   "cell_type": "markdown",
   "metadata": {},
   "source": [
    "### Hypothesis testing"
   ]
  },
  {
   "cell_type": "markdown",
   "metadata": {},
   "source": [
    "\n",
    "H0: Each finalize feature does not have an impact to the sale price.\n",
    "\n",
    "HA: Each finalize feature have an impact to the sale price.\n",
    "\n",
    "$$\n",
    "\\begin{eqnarray*}\n",
    "&H_0:& \\beta_{feature} = 0 \\\\\n",
    "&H_A:& \\beta_{feature} \\neq 0\n",
    "\\end{eqnarray*}\n",
    "$$\n",
    "\n",
    "We will conduct this test assuming $\\alpha=0.05$.\n",
    "\n",
    "\n"
   ]
  },
  {
   "cell_type": "code",
   "execution_count": 29,
   "metadata": {},
   "outputs": [],
   "source": [
    "X_train = sm.add_constant(Xbase_train)"
   ]
  },
  {
   "cell_type": "code",
   "execution_count": 30,
   "metadata": {},
   "outputs": [
    {
     "data": {
      "text/plain": [
       "(1536, 11)"
      ]
     },
     "execution_count": 30,
     "metadata": {},
     "output_type": "execute_result"
    }
   ],
   "source": [
    "X_train.shape"
   ]
  },
  {
   "cell_type": "code",
   "execution_count": 31,
   "metadata": {},
   "outputs": [],
   "source": [
    "model_sm = sm.OLS(ybase_train, X_train).fit()"
   ]
  },
  {
   "cell_type": "code",
   "execution_count": 32,
   "metadata": {
    "scrolled": false
   },
   "outputs": [
    {
     "data": {
      "text/html": [
       "<table class=\"simpletable\">\n",
       "<caption>OLS Regression Results</caption>\n",
       "<tr>\n",
       "  <th>Dep. Variable:</th>        <td>saleprice</td>    <th>  R-squared:         </th> <td>   0.831</td> \n",
       "</tr>\n",
       "<tr>\n",
       "  <th>Model:</th>                   <td>OLS</td>       <th>  Adj. R-squared:    </th> <td>   0.830</td> \n",
       "</tr>\n",
       "<tr>\n",
       "  <th>Method:</th>             <td>Least Squares</td>  <th>  F-statistic:       </th> <td>   750.8</td> \n",
       "</tr>\n",
       "<tr>\n",
       "  <th>Date:</th>             <td>Thu, 08 Apr 2021</td> <th>  Prob (F-statistic):</th>  <td>  0.00</td>  \n",
       "</tr>\n",
       "<tr>\n",
       "  <th>Time:</th>                 <td>22:52:27</td>     <th>  Log-Likelihood:    </th> <td> -18139.</td> \n",
       "</tr>\n",
       "<tr>\n",
       "  <th>No. Observations:</th>      <td>  1536</td>      <th>  AIC:               </th> <td>3.630e+04</td>\n",
       "</tr>\n",
       "<tr>\n",
       "  <th>Df Residuals:</th>          <td>  1525</td>      <th>  BIC:               </th> <td>3.636e+04</td>\n",
       "</tr>\n",
       "<tr>\n",
       "  <th>Df Model:</th>              <td>    10</td>      <th>                     </th>     <td> </td>    \n",
       "</tr>\n",
       "<tr>\n",
       "  <th>Covariance Type:</th>      <td>nonrobust</td>    <th>                     </th>     <td> </td>    \n",
       "</tr>\n",
       "</table>\n",
       "<table class=\"simpletable\">\n",
       "<tr>\n",
       "          <td></td>            <th>coef</th>     <th>std err</th>      <th>t</th>      <th>P>|t|</th>  <th>[0.025</th>    <th>0.975]</th>  \n",
       "</tr>\n",
       "<tr>\n",
       "  <th>const</th>            <td>-8.199e+05</td> <td> 1.07e+05</td> <td>   -7.632</td> <td> 0.000</td> <td>-1.03e+06</td> <td>-6.09e+05</td>\n",
       "</tr>\n",
       "<tr>\n",
       "  <th>overall_qual</th>     <td> 1.595e+04</td> <td>  963.861</td> <td>   16.550</td> <td> 0.000</td> <td> 1.41e+04</td> <td> 1.78e+04</td>\n",
       "</tr>\n",
       "<tr>\n",
       "  <th>gr_liv_area</th>      <td>   59.3697</td> <td>    3.545</td> <td>   16.746</td> <td> 0.000</td> <td>   52.416</td> <td>   66.324</td>\n",
       "</tr>\n",
       "<tr>\n",
       "  <th>total_bsmt_sf</th>    <td>   39.6524</td> <td>    2.460</td> <td>   16.117</td> <td> 0.000</td> <td>   34.827</td> <td>   44.478</td>\n",
       "</tr>\n",
       "<tr>\n",
       "  <th>garage_area</th>      <td>   40.8098</td> <td>    5.189</td> <td>    7.865</td> <td> 0.000</td> <td>   30.631</td> <td>   50.988</td>\n",
       "</tr>\n",
       "<tr>\n",
       "  <th>garage_finish</th>    <td> 4980.1314</td> <td> 1186.816</td> <td>    4.196</td> <td> 0.000</td> <td> 2652.168</td> <td> 7308.095</td>\n",
       "</tr>\n",
       "<tr>\n",
       "  <th>year_remod/add</th>   <td>  381.3288</td> <td>   55.186</td> <td>    6.910</td> <td> 0.000</td> <td>  273.079</td> <td>  489.578</td>\n",
       "</tr>\n",
       "<tr>\n",
       "  <th>full_bath</th>        <td>-8429.0541</td> <td> 2146.075</td> <td>   -3.928</td> <td> 0.000</td> <td>-1.26e+04</td> <td>-4219.483</td>\n",
       "</tr>\n",
       "<tr>\n",
       "  <th>foundation_PConc</th> <td> 8941.4254</td> <td> 2294.546</td> <td>    3.897</td> <td> 0.000</td> <td> 4440.625</td> <td> 1.34e+04</td>\n",
       "</tr>\n",
       "<tr>\n",
       "  <th>mas_vnr_area</th>     <td>   47.1717</td> <td>    5.599</td> <td>    8.425</td> <td> 0.000</td> <td>   36.189</td> <td>   58.155</td>\n",
       "</tr>\n",
       "<tr>\n",
       "  <th>totrms_abvgrd</th>    <td> -968.3210</td> <td>  943.165</td> <td>   -1.027</td> <td> 0.305</td> <td>-2818.358</td> <td>  881.716</td>\n",
       "</tr>\n",
       "</table>\n",
       "<table class=\"simpletable\">\n",
       "<tr>\n",
       "  <th>Omnibus:</th>       <td>404.500</td> <th>  Durbin-Watson:     </th> <td>   1.974</td>\n",
       "</tr>\n",
       "<tr>\n",
       "  <th>Prob(Omnibus):</th> <td> 0.000</td>  <th>  Jarque-Bera (JB):  </th> <td>3137.440</td>\n",
       "</tr>\n",
       "<tr>\n",
       "  <th>Skew:</th>          <td> 1.009</td>  <th>  Prob(JB):          </th> <td>    0.00</td>\n",
       "</tr>\n",
       "<tr>\n",
       "  <th>Kurtosis:</th>      <td> 9.704</td>  <th>  Cond. No.          </th> <td>3.57e+05</td>\n",
       "</tr>\n",
       "</table><br/><br/>Notes:<br/>[1] Standard Errors assume that the covariance matrix of the errors is correctly specified.<br/>[2] The condition number is large, 3.57e+05. This might indicate that there are<br/>strong multicollinearity or other numerical problems."
      ],
      "text/plain": [
       "<class 'statsmodels.iolib.summary.Summary'>\n",
       "\"\"\"\n",
       "                            OLS Regression Results                            \n",
       "==============================================================================\n",
       "Dep. Variable:              saleprice   R-squared:                       0.831\n",
       "Model:                            OLS   Adj. R-squared:                  0.830\n",
       "Method:                 Least Squares   F-statistic:                     750.8\n",
       "Date:                Thu, 08 Apr 2021   Prob (F-statistic):               0.00\n",
       "Time:                        22:52:27   Log-Likelihood:                -18139.\n",
       "No. Observations:                1536   AIC:                         3.630e+04\n",
       "Df Residuals:                    1525   BIC:                         3.636e+04\n",
       "Df Model:                          10                                         \n",
       "Covariance Type:            nonrobust                                         \n",
       "====================================================================================\n",
       "                       coef    std err          t      P>|t|      [0.025      0.975]\n",
       "------------------------------------------------------------------------------------\n",
       "const            -8.199e+05   1.07e+05     -7.632      0.000   -1.03e+06   -6.09e+05\n",
       "overall_qual      1.595e+04    963.861     16.550      0.000    1.41e+04    1.78e+04\n",
       "gr_liv_area         59.3697      3.545     16.746      0.000      52.416      66.324\n",
       "total_bsmt_sf       39.6524      2.460     16.117      0.000      34.827      44.478\n",
       "garage_area         40.8098      5.189      7.865      0.000      30.631      50.988\n",
       "garage_finish     4980.1314   1186.816      4.196      0.000    2652.168    7308.095\n",
       "year_remod/add     381.3288     55.186      6.910      0.000     273.079     489.578\n",
       "full_bath        -8429.0541   2146.075     -3.928      0.000   -1.26e+04   -4219.483\n",
       "foundation_PConc  8941.4254   2294.546      3.897      0.000    4440.625    1.34e+04\n",
       "mas_vnr_area        47.1717      5.599      8.425      0.000      36.189      58.155\n",
       "totrms_abvgrd     -968.3210    943.165     -1.027      0.305   -2818.358     881.716\n",
       "==============================================================================\n",
       "Omnibus:                      404.500   Durbin-Watson:                   1.974\n",
       "Prob(Omnibus):                  0.000   Jarque-Bera (JB):             3137.440\n",
       "Skew:                           1.009   Prob(JB):                         0.00\n",
       "Kurtosis:                       9.704   Cond. No.                     3.57e+05\n",
       "==============================================================================\n",
       "\n",
       "Notes:\n",
       "[1] Standard Errors assume that the covariance matrix of the errors is correctly specified.\n",
       "[2] The condition number is large, 3.57e+05. This might indicate that there are\n",
       "strong multicollinearity or other numerical problems.\n",
       "\"\"\""
      ]
     },
     "execution_count": 32,
     "metadata": {},
     "output_type": "execute_result"
    }
   ],
   "source": [
    "model_sm.summary()"
   ]
  },
  {
   "cell_type": "markdown",
   "metadata": {},
   "source": [
    "From the `model_sm.summary()` table, we can observed that the $p$-value for each feature except `totrms_abvgrd` is less than 0.001, this means that the $p < \\alpha$ and we will reject $H_0$ and accept that they have an impact to predicting `sale price`.\n",
    "\n",
    "For `totrms_abvgrd`, the $p$-value is 0.305. This means that the $p > \\alpha$ and we fail to reject $H_0$."
   ]
  },
  {
   "cell_type": "markdown",
   "metadata": {},
   "source": [
    "## Model 2: Model with Polynomial features and scaling"
   ]
  },
  {
   "cell_type": "markdown",
   "metadata": {},
   "source": [
    "### Instantiate the model and fit"
   ]
  },
  {
   "cell_type": "code",
   "execution_count": 33,
   "metadata": {},
   "outputs": [],
   "source": [
    "poly = PolynomialFeatures(interaction_only=True,include_bias=False)"
   ]
  },
  {
   "cell_type": "code",
   "execution_count": 34,
   "metadata": {},
   "outputs": [],
   "source": [
    "X_poly = poly.fit_transform(X_base)"
   ]
  },
  {
   "cell_type": "code",
   "execution_count": 35,
   "metadata": {},
   "outputs": [
    {
     "data": {
      "text/plain": [
       "0.8815576274401076"
      ]
     },
     "execution_count": 35,
     "metadata": {},
     "output_type": "execute_result"
    }
   ],
   "source": [
    "cross_val_score(lr, X_poly, y_base, cv=5).mean()"
   ]
  },
  {
   "cell_type": "code",
   "execution_count": 36,
   "metadata": {},
   "outputs": [],
   "source": [
    "X_poly_train, X_poly_test, y_poly_train, y_poly_test = train_test_split(X_poly, y_base, random_state = 42)"
   ]
  },
  {
   "cell_type": "code",
   "execution_count": 37,
   "metadata": {},
   "outputs": [],
   "source": [
    "sc = StandardScaler()"
   ]
  },
  {
   "cell_type": "code",
   "execution_count": 38,
   "metadata": {},
   "outputs": [],
   "source": [
    "X_ss_train = sc.fit_transform(X_poly_train)\n",
    "X_ss_test = sc.transform(X_poly_test)"
   ]
  },
  {
   "cell_type": "code",
   "execution_count": 39,
   "metadata": {},
   "outputs": [
    {
     "name": "stdout",
     "output_type": "stream",
     "text": [
      "X_ss_train shape is: (1536, 55)\n",
      "y_poly_train shape is: (1536,)\n",
      "X_ss_test shape is: (513, 55)\n",
      "y_poly_test shape is: (513,)\n"
     ]
    }
   ],
   "source": [
    "print(f'X_ss_train shape is: {X_ss_train.shape}')\n",
    "print(f'y_poly_train shape is: {y_poly_train.shape}')\n",
    "print(f'X_ss_test shape is: {X_ss_test.shape}')\n",
    "print(f'y_poly_test shape is: {y_poly_test.shape}')"
   ]
  },
  {
   "cell_type": "code",
   "execution_count": 40,
   "metadata": {
    "scrolled": true
   },
   "outputs": [
    {
     "data": {
      "text/plain": [
       "LinearRegression()"
      ]
     },
     "execution_count": 40,
     "metadata": {},
     "output_type": "execute_result"
    }
   ],
   "source": [
    "lr.fit(X_ss_train, y_poly_train)"
   ]
  },
  {
   "cell_type": "code",
   "execution_count": 41,
   "metadata": {},
   "outputs": [
    {
     "name": "stdout",
     "output_type": "stream",
     "text": [
      "R^2 on testing set: 0.9017263760470908\n",
      "R^2 on training set: 0.8895922615734666\n",
      "Cross validation score: 0.8640107125057387\n",
      "\n",
      "RMSE on testing set: 24925.832163267914\n",
      "RMSE on training set: 26315.596492589902\n"
     ]
    }
   ],
   "source": [
    "y_poly_pred = lr.predict(X_ss_test)\n",
    "\n",
    "\n",
    "\n",
    "print(f'R^2 on testing set: {lr.score(X_ss_test,y_poly_test)}')\n",
    "print(f'R^2 on training set: {lr.score(X_ss_train,y_poly_train)}')\n",
    "print(f'Cross validation score: {cross_val_score(lr,X_ss_train,y_poly_train,cv=5).mean()}\\n')\n",
    "\n",
    "print(f'RMSE on testing set: {(mean_squared_error(y_poly_test, y_poly_pred))**0.5}')\n",
    "print(f'RMSE on training set: {(mean_squared_error(y_poly_train, lr.predict(X_ss_train)))**0.5}')"
   ]
  },
  {
   "cell_type": "markdown",
   "metadata": {},
   "source": [
    "### Interpretation"
   ]
  },
  {
   "cell_type": "markdown",
   "metadata": {},
   "source": [
    "Lets compare the $R^2$ of both tests:\n",
    "- The $R^2$ score for both sets have improved, 0.90 for testing and 0.89 for training.\n",
    "- The score represents that 90% / 89% of _saleprice_ is explained by the _x_-variables in our model.\n",
    "- The Test and Cross Val are pretty similar, which indicates that it is a representative of the test set.\n",
    "-\n",
    "Let us look at the Root Mean Square Error,$RMSE$.\n",
    "\n",
    "- The $RSME$ for both sets have dropped.\n",
    "- The $RMSE$ for the training set is USD 25,060 (rounded), this means that we have an error of the $RMSE$ from the mean which is USD 181,479(rounded).\n",
    "- The $RMSE$ for the test set is lower at USD 24,767.\n",
    "- The goal is to make $RMSE$ as low as possible so that the model will have a better accuracy of the saleprice.\n",
    "\n",
    "With polynomialfeature for model 2, the model probably overfitted with the increase of predictors.\n",
    "\n",
    "Let us try to futher improve model 2 with regularization using Ridge and Lasso as model 3."
   ]
  },
  {
   "cell_type": "markdown",
   "metadata": {},
   "source": [
    "## Model 3: Model 2 with Ridge regularization\n",
    "\n",
    "### This is the chosen model"
   ]
  },
  {
   "cell_type": "markdown",
   "metadata": {},
   "source": [
    "   ### Instantiate PolynomialFeatures "
   ]
  },
  {
   "cell_type": "code",
   "execution_count": 42,
   "metadata": {},
   "outputs": [],
   "source": [
    "poly = PolynomialFeatures(interaction_only=True,include_bias=False)"
   ]
  },
  {
   "cell_type": "markdown",
   "metadata": {},
   "source": [
    "### Fit and transform X"
   ]
  },
  {
   "cell_type": "code",
   "execution_count": 43,
   "metadata": {},
   "outputs": [],
   "source": [
    "X_overfit = poly.fit_transform(X_base)"
   ]
  },
  {
   "cell_type": "code",
   "execution_count": 44,
   "metadata": {},
   "outputs": [],
   "source": [
    "X_overfit_df = pd.DataFrame(X_overfit,columns = poly.get_feature_names(X_base.columns))"
   ]
  },
  {
   "cell_type": "markdown",
   "metadata": {},
   "source": [
    "### Create train/test split"
   ]
  },
  {
   "cell_type": "code",
   "execution_count": 45,
   "metadata": {},
   "outputs": [],
   "source": [
    "X_ridge_train, X_ridge_test, y_ridge_train, y_ridge_test = train_test_split(\n",
    "X_overfit_df, y_base,random_state=42)"
   ]
  },
  {
   "cell_type": "code",
   "execution_count": 46,
   "metadata": {},
   "outputs": [],
   "source": [
    "sc = StandardScaler()"
   ]
  },
  {
   "cell_type": "markdown",
   "metadata": {},
   "source": [
    "### Scaling the data"
   ]
  },
  {
   "cell_type": "code",
   "execution_count": 47,
   "metadata": {},
   "outputs": [],
   "source": [
    "Z_ridge_train = sc.fit_transform(X_ridge_train)\n",
    "Z_ridge_test = sc.transform(X_ridge_test)"
   ]
  },
  {
   "cell_type": "code",
   "execution_count": 48,
   "metadata": {},
   "outputs": [
    {
     "name": "stdout",
     "output_type": "stream",
     "text": [
      "Z_train shape is: (1536, 55)\n",
      "y_train shape is: (1536,)\n",
      "Z_test shape is: (513, 55)\n",
      "y_test shape is: (513,)\n"
     ]
    }
   ],
   "source": [
    "print(f'Z_train shape is: {Z_ridge_train.shape}')\n",
    "print(f'y_train shape is: {y_ridge_train.shape}')\n",
    "print(f'Z_test shape is: {Z_ridge_test.shape}')\n",
    "print(f'y_test shape is: {y_ridge_test.shape}')"
   ]
  },
  {
   "cell_type": "code",
   "execution_count": 49,
   "metadata": {},
   "outputs": [],
   "source": [
    "lr = LinearRegression()"
   ]
  },
  {
   "cell_type": "code",
   "execution_count": 50,
   "metadata": {},
   "outputs": [
    {
     "name": "stdout",
     "output_type": "stream",
     "text": [
      "Training score:0.8895922615734666\n",
      "Test score:0.9017263760470908\n"
     ]
    }
   ],
   "source": [
    "lr.fit(Z_ridge_train, y_ridge_train)\n",
    "print(f\"Training score:{lr.score(Z_ridge_train, y_ridge_train)}\")\n",
    "print(f\"Test score:{lr.score(Z_ridge_test, y_ridge_test)}\")\n"
   ]
  },
  {
   "cell_type": "markdown",
   "metadata": {},
   "source": [
    "### creating a 100 equally space alpha equally between 0 and 5 "
   ]
  },
  {
   "cell_type": "code",
   "execution_count": 51,
   "metadata": {},
   "outputs": [],
   "source": [
    "alphas = np.logspace(0,5,100)"
   ]
  },
  {
   "cell_type": "markdown",
   "metadata": {},
   "source": [
    "### Instantiate and fit ridge model  "
   ]
  },
  {
   "cell_type": "code",
   "execution_count": 52,
   "metadata": {},
   "outputs": [
    {
     "data": {
      "text/plain": [
       "RidgeCV(alphas=array([1.00000000e+00, 1.12332403e+00, 1.26185688e+00, 1.41747416e+00,\n",
       "       1.59228279e+00, 1.78864953e+00, 2.00923300e+00, 2.25701972e+00,\n",
       "       2.53536449e+00, 2.84803587e+00, 3.19926714e+00, 3.59381366e+00,\n",
       "       4.03701726e+00, 4.53487851e+00, 5.09413801e+00, 5.72236766e+00,\n",
       "       6.42807312e+00, 7.22080902e+00, 8.11130831e+00, 9.11162756e+00,\n",
       "       1.02353102e+01, 1.14975700e+0...\n",
       "       6.89261210e+03, 7.74263683e+03, 8.69749003e+03, 9.77009957e+03,\n",
       "       1.09749877e+04, 1.23284674e+04, 1.38488637e+04, 1.55567614e+04,\n",
       "       1.74752840e+04, 1.96304065e+04, 2.20513074e+04, 2.47707636e+04,\n",
       "       2.78255940e+04, 3.12571585e+04, 3.51119173e+04, 3.94420606e+04,\n",
       "       4.43062146e+04, 4.97702356e+04, 5.59081018e+04, 6.28029144e+04,\n",
       "       7.05480231e+04, 7.92482898e+04, 8.90215085e+04, 1.00000000e+05]),\n",
       "        cv=5, scoring='r2')"
      ]
     },
     "execution_count": 52,
     "metadata": {},
     "output_type": "execute_result"
    }
   ],
   "source": [
    "ridge_cv = RidgeCV(alphas = alphas, cv = 5 ,scoring='r2')\n",
    "ridge_cv.fit(Z_ridge_train,y_ridge_train)"
   ]
  },
  {
   "cell_type": "code",
   "execution_count": 53,
   "metadata": {},
   "outputs": [
    {
     "data": {
      "text/plain": [
       "36.78379771828632"
      ]
     },
     "execution_count": 53,
     "metadata": {},
     "output_type": "execute_result"
    }
   ],
   "source": [
    "# Optimal value of alpha\n",
    "ridge_cv.alpha_"
   ]
  },
  {
   "cell_type": "code",
   "execution_count": 54,
   "metadata": {},
   "outputs": [
    {
     "data": {
      "text/plain": [
       "array([-1346.76380551,   605.17188458,  -592.73645222, -2492.44959082,\n",
       "       -1098.16325774,  8312.28807791, -3345.11497123, -4684.62132694,\n",
       "       -3590.6424116 , -5748.6373958 , 13482.0027199 , 19233.00469264,\n",
       "        9284.5066977 ,  6116.6762117 ,  -262.93727161,  1667.35217849,\n",
       "         298.1193171 , -2076.68845034,  8865.06337309,  6443.0407023 ,\n",
       "        5718.31375089,  5932.10240107,  2052.75913346,  9842.54782075,\n",
       "        4376.93015475, -1329.75647323,  1062.05053333,   965.64946643,\n",
       "        4427.17888448,   608.9519999 , -6044.42692031,  3542.4821597 ,\n",
       "        4982.74903444, -2046.50452097,  -827.04771462, -1594.8239086 ,\n",
       "       -1472.11220492,  1212.51238064,  1588.08079589,  2638.39439818,\n",
       "        -544.24604481, -3288.67275372, -1288.44705557, -3584.4936535 ,\n",
       "        -121.41098236, -1930.40064122, -4612.97907899, -3226.42473496,\n",
       "       -4299.90854355,  -126.00515228,  -755.57853885,  3033.59293819,\n",
       "        5944.82255035,  4860.15267016,  8517.8550949 ])"
      ]
     },
     "execution_count": 54,
     "metadata": {},
     "output_type": "execute_result"
    }
   ],
   "source": [
    "# Coefficients of ridge CV\n",
    "ridge_cv.coef_"
   ]
  },
  {
   "cell_type": "code",
   "execution_count": 55,
   "metadata": {},
   "outputs": [
    {
     "name": "stdout",
     "output_type": "stream",
     "text": [
      "R^2 on testing set: 0.9049626442256957\n",
      "R^2 on training set: 0.8815617582176615\n",
      "Cross validation score: 0.867618511850236\n",
      "\n",
      "RMSE on testing set: 24511.977701801687\n",
      "RMSE on training set: 27255.83160851632\n"
     ]
    }
   ],
   "source": [
    "y_ridge_pred = ridge_cv.predict(Z_ridge_test)\n",
    "\n",
    "\n",
    "\n",
    "print(f'R^2 on testing set: {ridge_cv.score(Z_ridge_test,y_ridge_test)}')\n",
    "print(f'R^2 on training set: {ridge_cv.score(Z_ridge_train,y_ridge_train)}')\n",
    "print(f'Cross validation score: {cross_val_score(ridge_cv,Z_ridge_train,y_ridge_train,cv=5).mean()}\\n')\n",
    "\n",
    "print(f'RMSE on testing set: {(mean_squared_error(y_ridge_test, y_ridge_pred))**0.5}')\n",
    "print(f'RMSE on training set: {(mean_squared_error(y_ridge_train, ridge_cv.predict(Z_ridge_train)))**0.5}')"
   ]
  },
  {
   "cell_type": "markdown",
   "metadata": {},
   "source": [
    "### Model 4: Model 3 with Lasso "
   ]
  },
  {
   "cell_type": "markdown",
   "metadata": {},
   "source": [
    "   ### Instantiate PolynomialFeatures "
   ]
  },
  {
   "cell_type": "code",
   "execution_count": 56,
   "metadata": {},
   "outputs": [],
   "source": [
    "poly = PolynomialFeatures(interaction_only=True,include_bias=False)"
   ]
  },
  {
   "cell_type": "markdown",
   "metadata": {},
   "source": [
    "### Fit and transform X"
   ]
  },
  {
   "cell_type": "code",
   "execution_count": 57,
   "metadata": {},
   "outputs": [],
   "source": [
    "X_overfit = poly.fit_transform(X_base)"
   ]
  },
  {
   "cell_type": "markdown",
   "metadata": {},
   "source": [
    "### Create train/test split"
   ]
  },
  {
   "cell_type": "code",
   "execution_count": 58,
   "metadata": {},
   "outputs": [],
   "source": [
    "X_lasso_train, X_lasso_test, y_lasso_train, y_lasso_test = train_test_split(\n",
    "X_overfit, y_base,random_state=42)"
   ]
  },
  {
   "cell_type": "code",
   "execution_count": 59,
   "metadata": {},
   "outputs": [],
   "source": [
    "sc = StandardScaler()"
   ]
  },
  {
   "cell_type": "markdown",
   "metadata": {},
   "source": [
    "### Scaling the data"
   ]
  },
  {
   "cell_type": "code",
   "execution_count": 60,
   "metadata": {},
   "outputs": [],
   "source": [
    "Z_lasso_train = sc.fit_transform(X_lasso_train)\n",
    "Z_lasso_test = sc.transform(X_lasso_test)"
   ]
  },
  {
   "cell_type": "code",
   "execution_count": 61,
   "metadata": {},
   "outputs": [
    {
     "name": "stdout",
     "output_type": "stream",
     "text": [
      "Z_train shape is: (1536, 55)\n",
      "y_train shape is: (1536,)\n",
      "Z_test shape is: (513, 55)\n",
      "y_test shape is: (513,)\n"
     ]
    }
   ],
   "source": [
    "print(f'Z_train shape is: {Z_lasso_train.shape}')\n",
    "print(f'y_train shape is: {y_lasso_train.shape}')\n",
    "print(f'Z_test shape is: {Z_lasso_test.shape}')\n",
    "print(f'y_test shape is: {y_lasso_test.shape}')"
   ]
  },
  {
   "cell_type": "code",
   "execution_count": 62,
   "metadata": {},
   "outputs": [],
   "source": [
    "lr = LinearRegression()"
   ]
  },
  {
   "cell_type": "code",
   "execution_count": 63,
   "metadata": {},
   "outputs": [
    {
     "name": "stdout",
     "output_type": "stream",
     "text": [
      "Training score:0.8895922615734666\n",
      "Test score:0.9017263760470908\n"
     ]
    }
   ],
   "source": [
    "lr.fit(Z_lasso_train, y_lasso_train)\n",
    "print(f\"Training score:{lr.score(Z_lasso_train, y_lasso_train)}\")\n",
    "print(f\"Test score:{lr.score(Z_lasso_test, y_lasso_test)}\")\n"
   ]
  },
  {
   "cell_type": "code",
   "execution_count": 64,
   "metadata": {
    "scrolled": true
   },
   "outputs": [
    {
     "data": {
      "text/plain": [
       "LassoCV(cv=5, max_iter=50000, n_alphas=1000)"
      ]
     },
     "execution_count": 64,
     "metadata": {},
     "output_type": "execute_result"
    }
   ],
   "source": [
    "# Cross-validate over our list of Lasso alphas.\n",
    "lasso_cv = LassoCV(n_alphas=1000, cv=5,max_iter=50000)\n",
    "\n",
    "# Fit model using best ridge alpha!\n",
    "lasso_cv.fit(Z_lasso_train, y_lasso_train)"
   ]
  },
  {
   "cell_type": "code",
   "execution_count": 65,
   "metadata": {},
   "outputs": [
    {
     "data": {
      "text/plain": [
       "226.86140054948984"
      ]
     },
     "execution_count": 65,
     "metadata": {},
     "output_type": "execute_result"
    }
   ],
   "source": [
    "lasso_cv.alpha_"
   ]
  },
  {
   "cell_type": "code",
   "execution_count": 66,
   "metadata": {},
   "outputs": [
    {
     "name": "stdout",
     "output_type": "stream",
     "text": [
      "R^2 on testing set: 0.9033306900659765\n",
      "R^2 on training set: 0.8808761936601722\n",
      "Cross validation score: 0.8678294309441474\n",
      "\n",
      "RMSE on testing set: 24721.53822097118\n",
      "RMSE on training set: 27334.601227119136\n"
     ]
    }
   ],
   "source": [
    "y_lasso_pred = lasso_cv.predict(Z_lasso_test)\n",
    "\n",
    "\n",
    "\n",
    "print(f'R^2 on testing set: {lasso_cv.score(Z_lasso_test,y_lasso_test)}')\n",
    "print(f'R^2 on training set: {lasso_cv.score(Z_lasso_train,y_lasso_train)}')\n",
    "print(f'Cross validation score: {cross_val_score(lasso_cv,Z_lasso_train,y_lasso_train,cv=5).mean()}\\n')\n",
    "\n",
    "print(f'RMSE on testing set: {(mean_squared_error(y_lasso_test, y_lasso_pred))**0.5}')\n",
    "print(f'RMSE on training set: {(mean_squared_error(y_lasso_train, lasso_cv.predict(Z_lasso_train)))**0.5}')"
   ]
  },
  {
   "cell_type": "markdown",
   "metadata": {},
   "source": [
    "## Assumptions\n",
    "\n",
    "### These are the assumptions for model 3"
   ]
  },
  {
   "cell_type": "markdown",
   "metadata": {},
   "source": [
    "### Linearity"
   ]
  },
  {
   "cell_type": "code",
   "execution_count": 67,
   "metadata": {
    "scrolled": false
   },
   "outputs": [
    {
     "data": {
      "text/plain": [
       "<Figure size 1440x1440 with 0 Axes>"
      ]
     },
     "metadata": {},
     "output_type": "display_data"
    },
    {
     "data": {
      "image/png": "[encoded data removed]",
      "text/plain": [
       "<Figure size 1800x180 with 10 Axes>"
      ]
     },
     "metadata": {
      "needs_background": "light"
     },
     "output_type": "display_data"
    }
   ],
   "source": [
    "# Checking for Linearity\n",
    "\n",
    "plt.figure(figsize=(20,20))\n",
    "\n",
    "sns.pairplot(train, x_vars=['overall_qual',\n",
    "'gr_liv_area',\n",
    "'total_bsmt_sf',\n",
    "'garage_area',\n",
    "'garage_finish',\n",
    "'year_remod/add',\n",
    "'full_bath',\n",
    "'foundation_PConc',\n",
    "'mas_vnr_area',\n",
    "'totrms_abvgrd'], y_vars=['saleprice'],diag_kind=None);\n",
    "plt.savefig(\"../images/Assumptions_ver_L\",bbox_inches='tight')"
   ]
  },
  {
   "cell_type": "markdown",
   "metadata": {},
   "source": [
    "### Independence"
   ]
  },
  {
   "cell_type": "code",
   "execution_count": 68,
   "metadata": {},
   "outputs": [
    {
     "data": {
      "image/png": "[encoded data removed]",
      "text/plain": [
       "<Figure size 720x720 with 2 Axes>"
      ]
     },
     "metadata": {
      "needs_background": "light"
     },
     "output_type": "display_data"
    }
   ],
   "source": [
    "# Checking for Independence within predictors\n",
    "plt.figure(figsize=(10,10))\n",
    "sns.heatmap(X_base.corr(),annot=True, mask = np.triu(X_base.corr()))\n",
    "plt.savefig(\"../images/Assumptions_I\",bbox_inches='tight')"
   ]
  },
  {
   "cell_type": "markdown",
   "metadata": {},
   "source": [
    "### Normality"
   ]
  },
  {
   "cell_type": "code",
   "execution_count": 69,
   "metadata": {},
   "outputs": [],
   "source": [
    "residual = y_ridge_test - y_ridge_pred"
   ]
  },
  {
   "cell_type": "code",
   "execution_count": 70,
   "metadata": {},
   "outputs": [
    {
     "data": {
      "image/png": "[encoded data removed]",
      "text/plain": [
       "<Figure size 720x720 with 1 Axes>"
      ]
     },
     "metadata": {
      "needs_background": "light"
     },
     "output_type": "display_data"
    }
   ],
   "source": [
    "#Checking for Normality\n",
    "plt.title('Distribution of residual')\n",
    "residual.hist(figsize=(10,10));\n",
    "plt.savefig(\"../images/Assumptions_N\",bbox_inches='tight')"
   ]
  },
  {
   "cell_type": "markdown",
   "metadata": {},
   "source": [
    "### Error of variance"
   ]
  },
  {
   "cell_type": "code",
   "execution_count": 71,
   "metadata": {},
   "outputs": [
    {
     "data": {
      "image/png": "[encoded data removed]",
      "text/plain": [
       "<Figure size 432x288 with 1 Axes>"
      ]
     },
     "metadata": {
      "needs_background": "light"
     },
     "output_type": "display_data"
    }
   ],
   "source": [
    "plt.scatter(y_ridge_test, residual)\n",
    "plt.title('Scatterplot for Error of Variance')\n",
    "plt.axhline(0,color='r')\n",
    "plt.savefig(\"../images/Assumptions_E\",bbox_inches='tight')"
   ]
  },
  {
   "cell_type": "markdown",
   "metadata": {},
   "source": [
    "### Multicollinearity "
   ]
  },
  {
   "cell_type": "markdown",
   "metadata": {},
   "source": [
    "Ridge regression helps with Multicollinearity. "
   ]
  },
  {
   "cell_type": "markdown",
   "metadata": {},
   "source": [
    "## Summary\n",
    "\n",
    "\n",
    "|Model|Set|R^2|Cross Val Score|RMSE|\n",
    "|---|---|---|---|---|\n",
    "|Overfit|Test| 0.9152|0.8901|23151|\n",
    "|Overfit|Train| 0.9303|0.8901|20904|\n",
    "|Baseline|Test|0.8593|0.8234|29822|\n",
    "|Baseline|Train|0.8311|0.8234|32541|\n",
    "|Model 2|Test|0.9017|0.8640|24925|\n",
    "|Model 2|Train|0.8895|0.8640|26315|\n",
    "|**Model 3**|**Test**|**0.9049**|**0.8767**|**24511**|\n",
    "|**Model 3**|**Train**|**0.8815**|**0.8676**|**27255**|\n",
    "|Model 4|Test| 0.9033|0.8678|24721|\n",
    "|Model 4|Train|0.8808|0.8678|27334|\n",
    "\n",
    "\n",
    "Model 2 - Baseline with Polynomial Feature and Standard Scaler\n",
    "\n",
    "Model 3 - Model 2 with Ridge regularization\n",
    "\n",
    "Model 4 - Model 2 with Lasso regularization\n",
    "\n",
    "---\n",
    "We officially started off with the baseline model narrowing down to correlated variables as our predictors with correlation above 0.5 & below -0.5. However we did not come across any -0.5 correlated variables. The statistics used in this regression to evaluate model fit were $R^2$ and $RMSE$. $R^2$ is the proportional improvement in prediction from the regression model, indicates the goodness of fit of the model. $RMSE$ is the square root of the variance of the residuals. It indicates the absolute fit of the model to the data–how close the observed data points are to the model’s predicted values. Lower values of RMSE indicate better fit.\n",
    "\n",
    "The baseline model came back with $R^2$ of 0.8593(test), 0.8311(training), 0.8234(CVscore). From the scores we can interpret that the model is well fitted as they are fairly similar. The $RMSE$ on the other hand return 29,822(test) and 32,541(training), what this means is that there will be an approximated (+/-) error(RMSE) from the mean. \n",
    "This sets the benchmark of our models and we aim to further improve by increasing the $R^2$ and lowering the $RMSE$. Best would be we could reach somewhere close to the scores of the overfitted model without overfitting.   \n",
    "\n",
    "Model 2 is a modification of the baseline model, introducing interactive terms and scaling. Interactive terms were created using PolynomialFeature with interactive only set to true as I am unsure how to infer $predictor^2$. The predictors were all scaled to Z-scores using StandardScalar. The $R^2$ scores for both sets improved to 0.9017(test), 0.8895(training) and 0.8640(CVscore), the model continues to be well fitted. $RSME$ also improved with 24,925(test) and 26,315(training). That was an approximate USD 5000 decrease in the $RMSE$ for both sets. However, this might be due to the added predictors with the interactive terms resulting the model to be overfitted. \n",
    "\n",
    "Model 3 is an enhanced version of model 2 with Regularization. Regularization is a method for \"constraining\" or \"regularizing\" the size of the coefficients, thus \"shrinking\" them towards zero. It reduces model variance and thus minimizes overfitting. If the model is too complex, it tends to reduce variance more than it increases bias, resulting in a model that is more likely to generalize. For model 3 , ridge regularization was applied to the model to shrink the coefficients by bringing it close to 0. Model 3 scores were further improved with $R^2$ at 0.9049(test), 0.8815(training) and 0.8676(CVscore) and $RMSE$ at 24,511(test) & 27,255(training). The $R^2$ scores in general were still relatively consistent and continue to show that it is a good fit. $RMSE$ has also taken another dip of approximately USD 1,000.\n",
    "\n",
    "Model 4 similarly like model 3 is an enhanced version of model 2 but using Lasso Regularization instead. Ridge regularization shrinks the coefficients by bringing it close to 0 but Lasso shrinks the coefficients by directing it towards 0. Model 4 returns fairly similar results to Model 3 with $R^2$ at 0.9033(test) ,0.8808(training) and 0.8678(CVScore) & $RMSE$ at 24,721(test) and 27,334(training).\n",
    "\n",
    "References:\n",
    "[Assessing the Fit of Regression Models](https://www.theanalysisfactor.com/assessing-the-fit-of-regression-models/)"
   ]
  },
  {
   "cell_type": "code",
   "execution_count": 72,
   "metadata": {
    "scrolled": false
   },
   "outputs": [
    {
     "data": {
      "image/png": "[encoded data removed]",
      "text/plain": [
       "<Figure size 864x648 with 1 Axes>"
      ]
     },
     "metadata": {
      "needs_background": "light"
     },
     "output_type": "display_data"
    }
   ],
   "source": [
    "plt.figure(figsize=(12,9))\n",
    "# Examine the relationship between observed and predicted values.\n",
    "plt.scatter(y_ridge_test, y_ridge_pred)\n",
    "\n",
    "# Line showing perfect predictions.\n",
    "plt.plot([0,max(max(y_ridge_test),max(y_ridge_pred))],\n",
    "        [0,max(max(y_ridge_test),max(y_ridge_pred))],\n",
    "        linestyle = '--')\n",
    "\n",
    "plt.title('Relationship between true and predicted values')\n",
    "plt.xlabel('True Values', fontsize = 16)\n",
    "plt.ylabel('Predicted Values', fontsize = 16);\n",
    "plt.savefig(\"../images/Accuracy_of_model\",bbox_inches='tight')"
   ]
  },
  {
   "cell_type": "code",
   "execution_count": 73,
   "metadata": {},
   "outputs": [
    {
     "data": {
      "image/png": "[encoded data removed]",
      "text/plain": [
       "<Figure size 720x1440 with 1 Axes>"
      ]
     },
     "metadata": {
      "needs_background": "light"
     },
     "output_type": "display_data"
    }
   ],
   "source": [
    "# Barplot for ridge coef_\n",
    "pd.Series(ridge_cv.coef_, index=X_ridge_train.columns).sort_values().plot.barh(figsize=(10, 20))\n",
    "plt.xlabel('Coefficient value')\n",
    "plt.title('Barplot of the coefficient for model 3');"
   ]
  },
  {
   "cell_type": "markdown",
   "metadata": {},
   "source": [
    "\n",
    "## Conclusion\n",
    "\n",
    "In conclusion, with the baseline model enginnered with polynomialfeature to create interactive terms, scaling and ridge regularization. We came up with model 3 which returned the best results, both $R^2$ and $RMSE$ were pretty close to the overfitted set. Most importantly, with the test $R^2$ score of model 3: we achieve an accuracy of **90.4%**  which is higher than our goal, 85% accuracy, hooray! This will enable real estate agents to engage home seller with better house prices using the features that were recommended, mitigating the misconception of real estate agents. For future plans, I can explore by removing features that return negative coefficient based on the chart above to see if there will be a improvement to the model. With our current resources, Model 3 have been chosen to submit to Kaggle."
   ]
  },
  {
   "cell_type": "markdown",
   "metadata": {},
   "source": [
    "### Applying model 3 to kaggle"
   ]
  },
  {
   "cell_type": "code",
   "execution_count": 74,
   "metadata": {},
   "outputs": [],
   "source": [
    "X_train = train[['overall_qual',\n",
    "'gr_liv_area',\n",
    "'total_bsmt_sf',\n",
    "'garage_area',\n",
    "'garage_finish',\n",
    "'year_remod/add',\n",
    "'full_bath',\n",
    "'foundation_PConc',\n",
    "'mas_vnr_area',\n",
    "'totrms_abvgrd']]\n",
    "y_train = train['saleprice']\n",
    "X_test = test[['overall_qual',\n",
    "'gr_liv_area',\n",
    "'total_bsmt_sf',\n",
    "'garage_area',\n",
    "'garage_finish',\n",
    "'year_remod/add',\n",
    "'full_bath',\n",
    "'foundation_PConc',\n",
    "'mas_vnr_area',\n",
    "'totrms_abvgrd']]"
   ]
  },
  {
   "cell_type": "code",
   "execution_count": 75,
   "metadata": {},
   "outputs": [],
   "source": [
    "pf = PolynomialFeatures(interaction_only=True,include_bias=False)"
   ]
  },
  {
   "cell_type": "code",
   "execution_count": 76,
   "metadata": {
    "scrolled": true
   },
   "outputs": [
    {
     "data": {
      "text/plain": [
       "PolynomialFeatures(include_bias=False, interaction_only=True)"
      ]
     },
     "execution_count": 76,
     "metadata": {},
     "output_type": "execute_result"
    }
   ],
   "source": [
    "pf.fit(X_train)"
   ]
  },
  {
   "cell_type": "code",
   "execution_count": 77,
   "metadata": {},
   "outputs": [],
   "source": [
    "X_train = pd.DataFrame(pf.transform(X_train), columns = pf.get_feature_names(X_train.columns))"
   ]
  },
  {
   "cell_type": "code",
   "execution_count": 78,
   "metadata": {},
   "outputs": [
    {
     "data": {
      "text/html": [
       "<div>\n",
       "<style scoped>\n",
       "    .dataframe tbody tr th:only-of-type {\n",
       "        vertical-align: middle;\n",
       "    }\n",
       "\n",
       "    .dataframe tbody tr th {\n",
       "        vertical-align: top;\n",
       "    }\n",
       "\n",
       "    .dataframe thead th {\n",
       "        text-align: right;\n",
       "    }\n",
       "</style>\n",
       "<table border=\"1\" class=\"dataframe\">\n",
       "  <thead>\n",
       "    <tr style=\"text-align: right;\">\n",
       "      <th></th>\n",
       "      <th>overall_qual</th>\n",
       "      <th>gr_liv_area</th>\n",
       "      <th>total_bsmt_sf</th>\n",
       "      <th>garage_area</th>\n",
       "      <th>garage_finish</th>\n",
       "      <th>year_remod/add</th>\n",
       "      <th>full_bath</th>\n",
       "      <th>foundation_PConc</th>\n",
       "      <th>mas_vnr_area</th>\n",
       "      <th>totrms_abvgrd</th>\n",
       "      <th>overall_qual gr_liv_area</th>\n",
       "      <th>overall_qual total_bsmt_sf</th>\n",
       "      <th>overall_qual garage_area</th>\n",
       "      <th>overall_qual garage_finish</th>\n",
       "      <th>overall_qual year_remod/add</th>\n",
       "      <th>overall_qual full_bath</th>\n",
       "      <th>overall_qual foundation_PConc</th>\n",
       "      <th>overall_qual mas_vnr_area</th>\n",
       "      <th>overall_qual totrms_abvgrd</th>\n",
       "      <th>gr_liv_area total_bsmt_sf</th>\n",
       "      <th>gr_liv_area garage_area</th>\n",
       "      <th>gr_liv_area garage_finish</th>\n",
       "      <th>gr_liv_area year_remod/add</th>\n",
       "      <th>gr_liv_area full_bath</th>\n",
       "      <th>gr_liv_area foundation_PConc</th>\n",
       "      <th>gr_liv_area mas_vnr_area</th>\n",
       "      <th>gr_liv_area totrms_abvgrd</th>\n",
       "      <th>total_bsmt_sf garage_area</th>\n",
       "      <th>total_bsmt_sf garage_finish</th>\n",
       "      <th>total_bsmt_sf year_remod/add</th>\n",
       "      <th>total_bsmt_sf full_bath</th>\n",
       "      <th>total_bsmt_sf foundation_PConc</th>\n",
       "      <th>total_bsmt_sf mas_vnr_area</th>\n",
       "      <th>total_bsmt_sf totrms_abvgrd</th>\n",
       "      <th>garage_area garage_finish</th>\n",
       "      <th>garage_area year_remod/add</th>\n",
       "      <th>garage_area full_bath</th>\n",
       "      <th>garage_area foundation_PConc</th>\n",
       "      <th>garage_area mas_vnr_area</th>\n",
       "      <th>garage_area totrms_abvgrd</th>\n",
       "      <th>garage_finish year_remod/add</th>\n",
       "      <th>garage_finish full_bath</th>\n",
       "      <th>garage_finish foundation_PConc</th>\n",
       "      <th>garage_finish mas_vnr_area</th>\n",
       "      <th>garage_finish totrms_abvgrd</th>\n",
       "      <th>year_remod/add full_bath</th>\n",
       "      <th>year_remod/add foundation_PConc</th>\n",
       "      <th>year_remod/add mas_vnr_area</th>\n",
       "      <th>year_remod/add totrms_abvgrd</th>\n",
       "      <th>full_bath foundation_PConc</th>\n",
       "      <th>full_bath mas_vnr_area</th>\n",
       "      <th>full_bath totrms_abvgrd</th>\n",
       "      <th>foundation_PConc mas_vnr_area</th>\n",
       "      <th>foundation_PConc totrms_abvgrd</th>\n",
       "      <th>mas_vnr_area totrms_abvgrd</th>\n",
       "    </tr>\n",
       "  </thead>\n",
       "  <tbody>\n",
       "    <tr>\n",
       "      <th>0</th>\n",
       "      <td>6.0</td>\n",
       "      <td>1479.0</td>\n",
       "      <td>725.0</td>\n",
       "      <td>475.0</td>\n",
       "      <td>2.0</td>\n",
       "      <td>2005.0</td>\n",
       "      <td>2.0</td>\n",
       "      <td>0.0</td>\n",
       "      <td>289.0</td>\n",
       "      <td>6.0</td>\n",
       "      <td>8874.0</td>\n",
       "      <td>4350.0</td>\n",
       "      <td>2850.0</td>\n",
       "      <td>12.0</td>\n",
       "      <td>12030.0</td>\n",
       "      <td>12.0</td>\n",
       "      <td>0.0</td>\n",
       "      <td>1734.0</td>\n",
       "      <td>36.0</td>\n",
       "      <td>1072275.0</td>\n",
       "      <td>702525.0</td>\n",
       "      <td>2958.0</td>\n",
       "      <td>2965395.0</td>\n",
       "      <td>2958.0</td>\n",
       "      <td>0.0</td>\n",
       "      <td>427431.0</td>\n",
       "      <td>8874.0</td>\n",
       "      <td>344375.0</td>\n",
       "      <td>1450.0</td>\n",
       "      <td>1453625.0</td>\n",
       "      <td>1450.0</td>\n",
       "      <td>0.0</td>\n",
       "      <td>209525.0</td>\n",
       "      <td>4350.0</td>\n",
       "      <td>950.0</td>\n",
       "      <td>952375.0</td>\n",
       "      <td>950.0</td>\n",
       "      <td>0.0</td>\n",
       "      <td>137275.0</td>\n",
       "      <td>2850.0</td>\n",
       "      <td>4010.0</td>\n",
       "      <td>4.0</td>\n",
       "      <td>0.0</td>\n",
       "      <td>578.0</td>\n",
       "      <td>12.0</td>\n",
       "      <td>4010.0</td>\n",
       "      <td>0.0</td>\n",
       "      <td>579445.0</td>\n",
       "      <td>12030.0</td>\n",
       "      <td>0.0</td>\n",
       "      <td>578.0</td>\n",
       "      <td>12.0</td>\n",
       "      <td>0.0</td>\n",
       "      <td>0.0</td>\n",
       "      <td>1734.0</td>\n",
       "    </tr>\n",
       "    <tr>\n",
       "      <th>1</th>\n",
       "      <td>7.0</td>\n",
       "      <td>2122.0</td>\n",
       "      <td>913.0</td>\n",
       "      <td>559.0</td>\n",
       "      <td>2.0</td>\n",
       "      <td>1997.0</td>\n",
       "      <td>2.0</td>\n",
       "      <td>1.0</td>\n",
       "      <td>132.0</td>\n",
       "      <td>8.0</td>\n",
       "      <td>14854.0</td>\n",
       "      <td>6391.0</td>\n",
       "      <td>3913.0</td>\n",
       "      <td>14.0</td>\n",
       "      <td>13979.0</td>\n",
       "      <td>14.0</td>\n",
       "      <td>7.0</td>\n",
       "      <td>924.0</td>\n",
       "      <td>56.0</td>\n",
       "      <td>1937386.0</td>\n",
       "      <td>1186198.0</td>\n",
       "      <td>4244.0</td>\n",
       "      <td>4237634.0</td>\n",
       "      <td>4244.0</td>\n",
       "      <td>2122.0</td>\n",
       "      <td>280104.0</td>\n",
       "      <td>16976.0</td>\n",
       "      <td>510367.0</td>\n",
       "      <td>1826.0</td>\n",
       "      <td>1823261.0</td>\n",
       "      <td>1826.0</td>\n",
       "      <td>913.0</td>\n",
       "      <td>120516.0</td>\n",
       "      <td>7304.0</td>\n",
       "      <td>1118.0</td>\n",
       "      <td>1116323.0</td>\n",
       "      <td>1118.0</td>\n",
       "      <td>559.0</td>\n",
       "      <td>73788.0</td>\n",
       "      <td>4472.0</td>\n",
       "      <td>3994.0</td>\n",
       "      <td>4.0</td>\n",
       "      <td>2.0</td>\n",
       "      <td>264.0</td>\n",
       "      <td>16.0</td>\n",
       "      <td>3994.0</td>\n",
       "      <td>1997.0</td>\n",
       "      <td>263604.0</td>\n",
       "      <td>15976.0</td>\n",
       "      <td>2.0</td>\n",
       "      <td>264.0</td>\n",
       "      <td>16.0</td>\n",
       "      <td>132.0</td>\n",
       "      <td>8.0</td>\n",
       "      <td>1056.0</td>\n",
       "    </tr>\n",
       "    <tr>\n",
       "      <th>2</th>\n",
       "      <td>5.0</td>\n",
       "      <td>1057.0</td>\n",
       "      <td>1057.0</td>\n",
       "      <td>246.0</td>\n",
       "      <td>1.0</td>\n",
       "      <td>2007.0</td>\n",
       "      <td>1.0</td>\n",
       "      <td>0.0</td>\n",
       "      <td>0.0</td>\n",
       "      <td>5.0</td>\n",
       "      <td>5285.0</td>\n",
       "      <td>5285.0</td>\n",
       "      <td>1230.0</td>\n",
       "      <td>5.0</td>\n",
       "      <td>10035.0</td>\n",
       "      <td>5.0</td>\n",
       "      <td>0.0</td>\n",
       "      <td>0.0</td>\n",
       "      <td>25.0</td>\n",
       "      <td>1117249.0</td>\n",
       "      <td>260022.0</td>\n",
       "      <td>1057.0</td>\n",
       "      <td>2121399.0</td>\n",
       "      <td>1057.0</td>\n",
       "      <td>0.0</td>\n",
       "      <td>0.0</td>\n",
       "      <td>5285.0</td>\n",
       "      <td>260022.0</td>\n",
       "      <td>1057.0</td>\n",
       "      <td>2121399.0</td>\n",
       "      <td>1057.0</td>\n",
       "      <td>0.0</td>\n",
       "      <td>0.0</td>\n",
       "      <td>5285.0</td>\n",
       "      <td>246.0</td>\n",
       "      <td>493722.0</td>\n",
       "      <td>246.0</td>\n",
       "      <td>0.0</td>\n",
       "      <td>0.0</td>\n",
       "      <td>1230.0</td>\n",
       "      <td>2007.0</td>\n",
       "      <td>1.0</td>\n",
       "      <td>0.0</td>\n",
       "      <td>0.0</td>\n",
       "      <td>5.0</td>\n",
       "      <td>2007.0</td>\n",
       "      <td>0.0</td>\n",
       "      <td>0.0</td>\n",
       "      <td>10035.0</td>\n",
       "      <td>0.0</td>\n",
       "      <td>0.0</td>\n",
       "      <td>5.0</td>\n",
       "      <td>0.0</td>\n",
       "      <td>0.0</td>\n",
       "      <td>0.0</td>\n",
       "    </tr>\n",
       "    <tr>\n",
       "      <th>3</th>\n",
       "      <td>5.0</td>\n",
       "      <td>1444.0</td>\n",
       "      <td>384.0</td>\n",
       "      <td>400.0</td>\n",
       "      <td>3.0</td>\n",
       "      <td>2007.0</td>\n",
       "      <td>2.0</td>\n",
       "      <td>1.0</td>\n",
       "      <td>0.0</td>\n",
       "      <td>7.0</td>\n",
       "      <td>7220.0</td>\n",
       "      <td>1920.0</td>\n",
       "      <td>2000.0</td>\n",
       "      <td>15.0</td>\n",
       "      <td>10035.0</td>\n",
       "      <td>10.0</td>\n",
       "      <td>5.0</td>\n",
       "      <td>0.0</td>\n",
       "      <td>35.0</td>\n",
       "      <td>554496.0</td>\n",
       "      <td>577600.0</td>\n",
       "      <td>4332.0</td>\n",
       "      <td>2898108.0</td>\n",
       "      <td>2888.0</td>\n",
       "      <td>1444.0</td>\n",
       "      <td>0.0</td>\n",
       "      <td>10108.0</td>\n",
       "      <td>153600.0</td>\n",
       "      <td>1152.0</td>\n",
       "      <td>770688.0</td>\n",
       "      <td>768.0</td>\n",
       "      <td>384.0</td>\n",
       "      <td>0.0</td>\n",
       "      <td>2688.0</td>\n",
       "      <td>1200.0</td>\n",
       "      <td>802800.0</td>\n",
       "      <td>800.0</td>\n",
       "      <td>400.0</td>\n",
       "      <td>0.0</td>\n",
       "      <td>2800.0</td>\n",
       "      <td>6021.0</td>\n",
       "      <td>6.0</td>\n",
       "      <td>3.0</td>\n",
       "      <td>0.0</td>\n",
       "      <td>21.0</td>\n",
       "      <td>4014.0</td>\n",
       "      <td>2007.0</td>\n",
       "      <td>0.0</td>\n",
       "      <td>14049.0</td>\n",
       "      <td>2.0</td>\n",
       "      <td>0.0</td>\n",
       "      <td>14.0</td>\n",
       "      <td>0.0</td>\n",
       "      <td>7.0</td>\n",
       "      <td>0.0</td>\n",
       "    </tr>\n",
       "    <tr>\n",
       "      <th>4</th>\n",
       "      <td>6.0</td>\n",
       "      <td>1445.0</td>\n",
       "      <td>676.0</td>\n",
       "      <td>484.0</td>\n",
       "      <td>1.0</td>\n",
       "      <td>1993.0</td>\n",
       "      <td>2.0</td>\n",
       "      <td>1.0</td>\n",
       "      <td>0.0</td>\n",
       "      <td>6.0</td>\n",
       "      <td>8670.0</td>\n",
       "      <td>4056.0</td>\n",
       "      <td>2904.0</td>\n",
       "      <td>6.0</td>\n",
       "      <td>11958.0</td>\n",
       "      <td>12.0</td>\n",
       "      <td>6.0</td>\n",
       "      <td>0.0</td>\n",
       "      <td>36.0</td>\n",
       "      <td>976820.0</td>\n",
       "      <td>699380.0</td>\n",
       "      <td>1445.0</td>\n",
       "      <td>2879885.0</td>\n",
       "      <td>2890.0</td>\n",
       "      <td>1445.0</td>\n",
       "      <td>0.0</td>\n",
       "      <td>8670.0</td>\n",
       "      <td>327184.0</td>\n",
       "      <td>676.0</td>\n",
       "      <td>1347268.0</td>\n",
       "      <td>1352.0</td>\n",
       "      <td>676.0</td>\n",
       "      <td>0.0</td>\n",
       "      <td>4056.0</td>\n",
       "      <td>484.0</td>\n",
       "      <td>964612.0</td>\n",
       "      <td>968.0</td>\n",
       "      <td>484.0</td>\n",
       "      <td>0.0</td>\n",
       "      <td>2904.0</td>\n",
       "      <td>1993.0</td>\n",
       "      <td>2.0</td>\n",
       "      <td>1.0</td>\n",
       "      <td>0.0</td>\n",
       "      <td>6.0</td>\n",
       "      <td>3986.0</td>\n",
       "      <td>1993.0</td>\n",
       "      <td>0.0</td>\n",
       "      <td>11958.0</td>\n",
       "      <td>2.0</td>\n",
       "      <td>0.0</td>\n",
       "      <td>12.0</td>\n",
       "      <td>0.0</td>\n",
       "      <td>6.0</td>\n",
       "      <td>0.0</td>\n",
       "    </tr>\n",
       "  </tbody>\n",
       "</table>\n",
       "</div>"
      ],
      "text/plain": [
       "   overall_qual  gr_liv_area  total_bsmt_sf  garage_area  garage_finish  \\\n",
       "0           6.0       1479.0          725.0        475.0            2.0   \n",
       "1           7.0       2122.0          913.0        559.0            2.0   \n",
       "2           5.0       1057.0         1057.0        246.0            1.0   \n",
       "3           5.0       1444.0          384.0        400.0            3.0   \n",
       "4           6.0       1445.0          676.0        484.0            1.0   \n",
       "\n",
       "   year_remod/add  full_bath  foundation_PConc  mas_vnr_area  totrms_abvgrd  \\\n",
       "0          2005.0        2.0               0.0         289.0            6.0   \n",
       "1          1997.0        2.0               1.0         132.0            8.0   \n",
       "2          2007.0        1.0               0.0           0.0            5.0   \n",
       "3          2007.0        2.0               1.0           0.0            7.0   \n",
       "4          1993.0        2.0               1.0           0.0            6.0   \n",
       "\n",
       "   overall_qual gr_liv_area  overall_qual total_bsmt_sf  \\\n",
       "0                    8874.0                      4350.0   \n",
       "1                   14854.0                      6391.0   \n",
       "2                    5285.0                      5285.0   \n",
       "3                    7220.0                      1920.0   \n",
       "4                    8670.0                      4056.0   \n",
       "\n",
       "   overall_qual garage_area  overall_qual garage_finish  \\\n",
       "0                    2850.0                        12.0   \n",
       "1                    3913.0                        14.0   \n",
       "2                    1230.0                         5.0   \n",
       "3                    2000.0                        15.0   \n",
       "4                    2904.0                         6.0   \n",
       "\n",
       "   overall_qual year_remod/add  overall_qual full_bath  \\\n",
       "0                      12030.0                    12.0   \n",
       "1                      13979.0                    14.0   \n",
       "2                      10035.0                     5.0   \n",
       "3                      10035.0                    10.0   \n",
       "4                      11958.0                    12.0   \n",
       "\n",
       "   overall_qual foundation_PConc  overall_qual mas_vnr_area  \\\n",
       "0                            0.0                     1734.0   \n",
       "1                            7.0                      924.0   \n",
       "2                            0.0                        0.0   \n",
       "3                            5.0                        0.0   \n",
       "4                            6.0                        0.0   \n",
       "\n",
       "   overall_qual totrms_abvgrd  gr_liv_area total_bsmt_sf  \\\n",
       "0                        36.0                  1072275.0   \n",
       "1                        56.0                  1937386.0   \n",
       "2                        25.0                  1117249.0   \n",
       "3                        35.0                   554496.0   \n",
       "4                        36.0                   976820.0   \n",
       "\n",
       "   gr_liv_area garage_area  gr_liv_area garage_finish  \\\n",
       "0                 702525.0                     2958.0   \n",
       "1                1186198.0                     4244.0   \n",
       "2                 260022.0                     1057.0   \n",
       "3                 577600.0                     4332.0   \n",
       "4                 699380.0                     1445.0   \n",
       "\n",
       "   gr_liv_area year_remod/add  gr_liv_area full_bath  \\\n",
       "0                   2965395.0                 2958.0   \n",
       "1                   4237634.0                 4244.0   \n",
       "2                   2121399.0                 1057.0   \n",
       "3                   2898108.0                 2888.0   \n",
       "4                   2879885.0                 2890.0   \n",
       "\n",
       "   gr_liv_area foundation_PConc  gr_liv_area mas_vnr_area  \\\n",
       "0                           0.0                  427431.0   \n",
       "1                        2122.0                  280104.0   \n",
       "2                           0.0                       0.0   \n",
       "3                        1444.0                       0.0   \n",
       "4                        1445.0                       0.0   \n",
       "\n",
       "   gr_liv_area totrms_abvgrd  total_bsmt_sf garage_area  \\\n",
       "0                     8874.0                   344375.0   \n",
       "1                    16976.0                   510367.0   \n",
       "2                     5285.0                   260022.0   \n",
       "3                    10108.0                   153600.0   \n",
       "4                     8670.0                   327184.0   \n",
       "\n",
       "   total_bsmt_sf garage_finish  total_bsmt_sf year_remod/add  \\\n",
       "0                       1450.0                     1453625.0   \n",
       "1                       1826.0                     1823261.0   \n",
       "2                       1057.0                     2121399.0   \n",
       "3                       1152.0                      770688.0   \n",
       "4                        676.0                     1347268.0   \n",
       "\n",
       "   total_bsmt_sf full_bath  total_bsmt_sf foundation_PConc  \\\n",
       "0                   1450.0                             0.0   \n",
       "1                   1826.0                           913.0   \n",
       "2                   1057.0                             0.0   \n",
       "3                    768.0                           384.0   \n",
       "4                   1352.0                           676.0   \n",
       "\n",
       "   total_bsmt_sf mas_vnr_area  total_bsmt_sf totrms_abvgrd  \\\n",
       "0                    209525.0                       4350.0   \n",
       "1                    120516.0                       7304.0   \n",
       "2                         0.0                       5285.0   \n",
       "3                         0.0                       2688.0   \n",
       "4                         0.0                       4056.0   \n",
       "\n",
       "   garage_area garage_finish  garage_area year_remod/add  \\\n",
       "0                      950.0                    952375.0   \n",
       "1                     1118.0                   1116323.0   \n",
       "2                      246.0                    493722.0   \n",
       "3                     1200.0                    802800.0   \n",
       "4                      484.0                    964612.0   \n",
       "\n",
       "   garage_area full_bath  garage_area foundation_PConc  \\\n",
       "0                  950.0                           0.0   \n",
       "1                 1118.0                         559.0   \n",
       "2                  246.0                           0.0   \n",
       "3                  800.0                         400.0   \n",
       "4                  968.0                         484.0   \n",
       "\n",
       "   garage_area mas_vnr_area  garage_area totrms_abvgrd  \\\n",
       "0                  137275.0                     2850.0   \n",
       "1                   73788.0                     4472.0   \n",
       "2                       0.0                     1230.0   \n",
       "3                       0.0                     2800.0   \n",
       "4                       0.0                     2904.0   \n",
       "\n",
       "   garage_finish year_remod/add  garage_finish full_bath  \\\n",
       "0                        4010.0                      4.0   \n",
       "1                        3994.0                      4.0   \n",
       "2                        2007.0                      1.0   \n",
       "3                        6021.0                      6.0   \n",
       "4                        1993.0                      2.0   \n",
       "\n",
       "   garage_finish foundation_PConc  garage_finish mas_vnr_area  \\\n",
       "0                             0.0                       578.0   \n",
       "1                             2.0                       264.0   \n",
       "2                             0.0                         0.0   \n",
       "3                             3.0                         0.0   \n",
       "4                             1.0                         0.0   \n",
       "\n",
       "   garage_finish totrms_abvgrd  year_remod/add full_bath  \\\n",
       "0                         12.0                    4010.0   \n",
       "1                         16.0                    3994.0   \n",
       "2                          5.0                    2007.0   \n",
       "3                         21.0                    4014.0   \n",
       "4                          6.0                    3986.0   \n",
       "\n",
       "   year_remod/add foundation_PConc  year_remod/add mas_vnr_area  \\\n",
       "0                              0.0                     579445.0   \n",
       "1                           1997.0                     263604.0   \n",
       "2                              0.0                          0.0   \n",
       "3                           2007.0                          0.0   \n",
       "4                           1993.0                          0.0   \n",
       "\n",
       "   year_remod/add totrms_abvgrd  full_bath foundation_PConc  \\\n",
       "0                       12030.0                         0.0   \n",
       "1                       15976.0                         2.0   \n",
       "2                       10035.0                         0.0   \n",
       "3                       14049.0                         2.0   \n",
       "4                       11958.0                         2.0   \n",
       "\n",
       "   full_bath mas_vnr_area  full_bath totrms_abvgrd  \\\n",
       "0                   578.0                     12.0   \n",
       "1                   264.0                     16.0   \n",
       "2                     0.0                      5.0   \n",
       "3                     0.0                     14.0   \n",
       "4                     0.0                     12.0   \n",
       "\n",
       "   foundation_PConc mas_vnr_area  foundation_PConc totrms_abvgrd  \\\n",
       "0                            0.0                             0.0   \n",
       "1                          132.0                             8.0   \n",
       "2                            0.0                             0.0   \n",
       "3                            0.0                             7.0   \n",
       "4                            0.0                             6.0   \n",
       "\n",
       "   mas_vnr_area totrms_abvgrd  \n",
       "0                      1734.0  \n",
       "1                      1056.0  \n",
       "2                         0.0  \n",
       "3                         0.0  \n",
       "4                         0.0  "
      ]
     },
     "execution_count": 78,
     "metadata": {},
     "output_type": "execute_result"
    }
   ],
   "source": [
    "X_train.head()"
   ]
  },
  {
   "cell_type": "code",
   "execution_count": 79,
   "metadata": {},
   "outputs": [],
   "source": [
    "X_test = pd.DataFrame(pf.transform(X_test), columns = pf.get_feature_names(X_test.columns))"
   ]
  },
  {
   "cell_type": "code",
   "execution_count": 80,
   "metadata": {},
   "outputs": [
    {
     "data": {
      "text/html": [
       "<div>\n",
       "<style scoped>\n",
       "    .dataframe tbody tr th:only-of-type {\n",
       "        vertical-align: middle;\n",
       "    }\n",
       "\n",
       "    .dataframe tbody tr th {\n",
       "        vertical-align: top;\n",
       "    }\n",
       "\n",
       "    .dataframe thead th {\n",
       "        text-align: right;\n",
       "    }\n",
       "</style>\n",
       "<table border=\"1\" class=\"dataframe\">\n",
       "  <thead>\n",
       "    <tr style=\"text-align: right;\">\n",
       "      <th></th>\n",
       "      <th>overall_qual</th>\n",
       "      <th>gr_liv_area</th>\n",
       "      <th>total_bsmt_sf</th>\n",
       "      <th>garage_area</th>\n",
       "      <th>garage_finish</th>\n",
       "      <th>year_remod/add</th>\n",
       "      <th>full_bath</th>\n",
       "      <th>foundation_PConc</th>\n",
       "      <th>mas_vnr_area</th>\n",
       "      <th>totrms_abvgrd</th>\n",
       "      <th>overall_qual gr_liv_area</th>\n",
       "      <th>overall_qual total_bsmt_sf</th>\n",
       "      <th>overall_qual garage_area</th>\n",
       "      <th>overall_qual garage_finish</th>\n",
       "      <th>overall_qual year_remod/add</th>\n",
       "      <th>overall_qual full_bath</th>\n",
       "      <th>overall_qual foundation_PConc</th>\n",
       "      <th>overall_qual mas_vnr_area</th>\n",
       "      <th>overall_qual totrms_abvgrd</th>\n",
       "      <th>gr_liv_area total_bsmt_sf</th>\n",
       "      <th>gr_liv_area garage_area</th>\n",
       "      <th>gr_liv_area garage_finish</th>\n",
       "      <th>gr_liv_area year_remod/add</th>\n",
       "      <th>gr_liv_area full_bath</th>\n",
       "      <th>gr_liv_area foundation_PConc</th>\n",
       "      <th>gr_liv_area mas_vnr_area</th>\n",
       "      <th>gr_liv_area totrms_abvgrd</th>\n",
       "      <th>total_bsmt_sf garage_area</th>\n",
       "      <th>total_bsmt_sf garage_finish</th>\n",
       "      <th>total_bsmt_sf year_remod/add</th>\n",
       "      <th>total_bsmt_sf full_bath</th>\n",
       "      <th>total_bsmt_sf foundation_PConc</th>\n",
       "      <th>total_bsmt_sf mas_vnr_area</th>\n",
       "      <th>total_bsmt_sf totrms_abvgrd</th>\n",
       "      <th>garage_area garage_finish</th>\n",
       "      <th>garage_area year_remod/add</th>\n",
       "      <th>garage_area full_bath</th>\n",
       "      <th>garage_area foundation_PConc</th>\n",
       "      <th>garage_area mas_vnr_area</th>\n",
       "      <th>garage_area totrms_abvgrd</th>\n",
       "      <th>garage_finish year_remod/add</th>\n",
       "      <th>garage_finish full_bath</th>\n",
       "      <th>garage_finish foundation_PConc</th>\n",
       "      <th>garage_finish mas_vnr_area</th>\n",
       "      <th>garage_finish totrms_abvgrd</th>\n",
       "      <th>year_remod/add full_bath</th>\n",
       "      <th>year_remod/add foundation_PConc</th>\n",
       "      <th>year_remod/add mas_vnr_area</th>\n",
       "      <th>year_remod/add totrms_abvgrd</th>\n",
       "      <th>full_bath foundation_PConc</th>\n",
       "      <th>full_bath mas_vnr_area</th>\n",
       "      <th>full_bath totrms_abvgrd</th>\n",
       "      <th>foundation_PConc mas_vnr_area</th>\n",
       "      <th>foundation_PConc totrms_abvgrd</th>\n",
       "      <th>mas_vnr_area totrms_abvgrd</th>\n",
       "    </tr>\n",
       "  </thead>\n",
       "  <tbody>\n",
       "    <tr>\n",
       "      <th>0</th>\n",
       "      <td>6.0</td>\n",
       "      <td>1928.0</td>\n",
       "      <td>1020.0</td>\n",
       "      <td>440.0</td>\n",
       "      <td>1.0</td>\n",
       "      <td>1950.0</td>\n",
       "      <td>2.0</td>\n",
       "      <td>0.0</td>\n",
       "      <td>0.0</td>\n",
       "      <td>9.0</td>\n",
       "      <td>11568.0</td>\n",
       "      <td>6120.0</td>\n",
       "      <td>2640.0</td>\n",
       "      <td>6.0</td>\n",
       "      <td>11700.0</td>\n",
       "      <td>12.0</td>\n",
       "      <td>0.0</td>\n",
       "      <td>0.0</td>\n",
       "      <td>54.0</td>\n",
       "      <td>1966560.0</td>\n",
       "      <td>848320.0</td>\n",
       "      <td>1928.0</td>\n",
       "      <td>3759600.0</td>\n",
       "      <td>3856.0</td>\n",
       "      <td>0.0</td>\n",
       "      <td>0.0</td>\n",
       "      <td>17352.0</td>\n",
       "      <td>448800.0</td>\n",
       "      <td>1020.0</td>\n",
       "      <td>1989000.0</td>\n",
       "      <td>2040.0</td>\n",
       "      <td>0.0</td>\n",
       "      <td>0.0</td>\n",
       "      <td>9180.0</td>\n",
       "      <td>440.0</td>\n",
       "      <td>858000.0</td>\n",
       "      <td>880.0</td>\n",
       "      <td>0.0</td>\n",
       "      <td>0.0</td>\n",
       "      <td>3960.0</td>\n",
       "      <td>1950.0</td>\n",
       "      <td>2.0</td>\n",
       "      <td>0.0</td>\n",
       "      <td>0.0</td>\n",
       "      <td>9.0</td>\n",
       "      <td>3900.0</td>\n",
       "      <td>0.0</td>\n",
       "      <td>0.0</td>\n",
       "      <td>17550.0</td>\n",
       "      <td>0.0</td>\n",
       "      <td>0.0</td>\n",
       "      <td>18.0</td>\n",
       "      <td>0.0</td>\n",
       "      <td>0.0</td>\n",
       "      <td>0.0</td>\n",
       "    </tr>\n",
       "    <tr>\n",
       "      <th>1</th>\n",
       "      <td>5.0</td>\n",
       "      <td>1967.0</td>\n",
       "      <td>1967.0</td>\n",
       "      <td>580.0</td>\n",
       "      <td>3.0</td>\n",
       "      <td>1977.0</td>\n",
       "      <td>2.0</td>\n",
       "      <td>0.0</td>\n",
       "      <td>0.0</td>\n",
       "      <td>10.0</td>\n",
       "      <td>9835.0</td>\n",
       "      <td>9835.0</td>\n",
       "      <td>2900.0</td>\n",
       "      <td>15.0</td>\n",
       "      <td>9885.0</td>\n",
       "      <td>10.0</td>\n",
       "      <td>0.0</td>\n",
       "      <td>0.0</td>\n",
       "      <td>50.0</td>\n",
       "      <td>3869089.0</td>\n",
       "      <td>1140860.0</td>\n",
       "      <td>5901.0</td>\n",
       "      <td>3888759.0</td>\n",
       "      <td>3934.0</td>\n",
       "      <td>0.0</td>\n",
       "      <td>0.0</td>\n",
       "      <td>19670.0</td>\n",
       "      <td>1140860.0</td>\n",
       "      <td>5901.0</td>\n",
       "      <td>3888759.0</td>\n",
       "      <td>3934.0</td>\n",
       "      <td>0.0</td>\n",
       "      <td>0.0</td>\n",
       "      <td>19670.0</td>\n",
       "      <td>1740.0</td>\n",
       "      <td>1146660.0</td>\n",
       "      <td>1160.0</td>\n",
       "      <td>0.0</td>\n",
       "      <td>0.0</td>\n",
       "      <td>5800.0</td>\n",
       "      <td>5931.0</td>\n",
       "      <td>6.0</td>\n",
       "      <td>0.0</td>\n",
       "      <td>0.0</td>\n",
       "      <td>30.0</td>\n",
       "      <td>3954.0</td>\n",
       "      <td>0.0</td>\n",
       "      <td>0.0</td>\n",
       "      <td>19770.0</td>\n",
       "      <td>0.0</td>\n",
       "      <td>0.0</td>\n",
       "      <td>20.0</td>\n",
       "      <td>0.0</td>\n",
       "      <td>0.0</td>\n",
       "      <td>0.0</td>\n",
       "    </tr>\n",
       "    <tr>\n",
       "      <th>2</th>\n",
       "      <td>7.0</td>\n",
       "      <td>1496.0</td>\n",
       "      <td>654.0</td>\n",
       "      <td>426.0</td>\n",
       "      <td>2.0</td>\n",
       "      <td>2006.0</td>\n",
       "      <td>2.0</td>\n",
       "      <td>1.0</td>\n",
       "      <td>0.0</td>\n",
       "      <td>7.0</td>\n",
       "      <td>10472.0</td>\n",
       "      <td>4578.0</td>\n",
       "      <td>2982.0</td>\n",
       "      <td>14.0</td>\n",
       "      <td>14042.0</td>\n",
       "      <td>14.0</td>\n",
       "      <td>7.0</td>\n",
       "      <td>0.0</td>\n",
       "      <td>49.0</td>\n",
       "      <td>978384.0</td>\n",
       "      <td>637296.0</td>\n",
       "      <td>2992.0</td>\n",
       "      <td>3000976.0</td>\n",
       "      <td>2992.0</td>\n",
       "      <td>1496.0</td>\n",
       "      <td>0.0</td>\n",
       "      <td>10472.0</td>\n",
       "      <td>278604.0</td>\n",
       "      <td>1308.0</td>\n",
       "      <td>1311924.0</td>\n",
       "      <td>1308.0</td>\n",
       "      <td>654.0</td>\n",
       "      <td>0.0</td>\n",
       "      <td>4578.0</td>\n",
       "      <td>852.0</td>\n",
       "      <td>854556.0</td>\n",
       "      <td>852.0</td>\n",
       "      <td>426.0</td>\n",
       "      <td>0.0</td>\n",
       "      <td>2982.0</td>\n",
       "      <td>4012.0</td>\n",
       "      <td>4.0</td>\n",
       "      <td>2.0</td>\n",
       "      <td>0.0</td>\n",
       "      <td>14.0</td>\n",
       "      <td>4012.0</td>\n",
       "      <td>2006.0</td>\n",
       "      <td>0.0</td>\n",
       "      <td>14042.0</td>\n",
       "      <td>2.0</td>\n",
       "      <td>0.0</td>\n",
       "      <td>14.0</td>\n",
       "      <td>0.0</td>\n",
       "      <td>7.0</td>\n",
       "      <td>0.0</td>\n",
       "    </tr>\n",
       "    <tr>\n",
       "      <th>3</th>\n",
       "      <td>5.0</td>\n",
       "      <td>968.0</td>\n",
       "      <td>968.0</td>\n",
       "      <td>480.0</td>\n",
       "      <td>1.0</td>\n",
       "      <td>2006.0</td>\n",
       "      <td>1.0</td>\n",
       "      <td>0.0</td>\n",
       "      <td>0.0</td>\n",
       "      <td>5.0</td>\n",
       "      <td>4840.0</td>\n",
       "      <td>4840.0</td>\n",
       "      <td>2400.0</td>\n",
       "      <td>5.0</td>\n",
       "      <td>10030.0</td>\n",
       "      <td>5.0</td>\n",
       "      <td>0.0</td>\n",
       "      <td>0.0</td>\n",
       "      <td>25.0</td>\n",
       "      <td>937024.0</td>\n",
       "      <td>464640.0</td>\n",
       "      <td>968.0</td>\n",
       "      <td>1941808.0</td>\n",
       "      <td>968.0</td>\n",
       "      <td>0.0</td>\n",
       "      <td>0.0</td>\n",
       "      <td>4840.0</td>\n",
       "      <td>464640.0</td>\n",
       "      <td>968.0</td>\n",
       "      <td>1941808.0</td>\n",
       "      <td>968.0</td>\n",
       "      <td>0.0</td>\n",
       "      <td>0.0</td>\n",
       "      <td>4840.0</td>\n",
       "      <td>480.0</td>\n",
       "      <td>962880.0</td>\n",
       "      <td>480.0</td>\n",
       "      <td>0.0</td>\n",
       "      <td>0.0</td>\n",
       "      <td>2400.0</td>\n",
       "      <td>2006.0</td>\n",
       "      <td>1.0</td>\n",
       "      <td>0.0</td>\n",
       "      <td>0.0</td>\n",
       "      <td>5.0</td>\n",
       "      <td>2006.0</td>\n",
       "      <td>0.0</td>\n",
       "      <td>0.0</td>\n",
       "      <td>10030.0</td>\n",
       "      <td>0.0</td>\n",
       "      <td>0.0</td>\n",
       "      <td>5.0</td>\n",
       "      <td>0.0</td>\n",
       "      <td>0.0</td>\n",
       "      <td>0.0</td>\n",
       "    </tr>\n",
       "    <tr>\n",
       "      <th>4</th>\n",
       "      <td>6.0</td>\n",
       "      <td>1394.0</td>\n",
       "      <td>1394.0</td>\n",
       "      <td>514.0</td>\n",
       "      <td>2.0</td>\n",
       "      <td>1963.0</td>\n",
       "      <td>1.0</td>\n",
       "      <td>0.0</td>\n",
       "      <td>247.0</td>\n",
       "      <td>6.0</td>\n",
       "      <td>8364.0</td>\n",
       "      <td>8364.0</td>\n",
       "      <td>3084.0</td>\n",
       "      <td>12.0</td>\n",
       "      <td>11778.0</td>\n",
       "      <td>6.0</td>\n",
       "      <td>0.0</td>\n",
       "      <td>1482.0</td>\n",
       "      <td>36.0</td>\n",
       "      <td>1943236.0</td>\n",
       "      <td>716516.0</td>\n",
       "      <td>2788.0</td>\n",
       "      <td>2736422.0</td>\n",
       "      <td>1394.0</td>\n",
       "      <td>0.0</td>\n",
       "      <td>344318.0</td>\n",
       "      <td>8364.0</td>\n",
       "      <td>716516.0</td>\n",
       "      <td>2788.0</td>\n",
       "      <td>2736422.0</td>\n",
       "      <td>1394.0</td>\n",
       "      <td>0.0</td>\n",
       "      <td>344318.0</td>\n",
       "      <td>8364.0</td>\n",
       "      <td>1028.0</td>\n",
       "      <td>1008982.0</td>\n",
       "      <td>514.0</td>\n",
       "      <td>0.0</td>\n",
       "      <td>126958.0</td>\n",
       "      <td>3084.0</td>\n",
       "      <td>3926.0</td>\n",
       "      <td>2.0</td>\n",
       "      <td>0.0</td>\n",
       "      <td>494.0</td>\n",
       "      <td>12.0</td>\n",
       "      <td>1963.0</td>\n",
       "      <td>0.0</td>\n",
       "      <td>484861.0</td>\n",
       "      <td>11778.0</td>\n",
       "      <td>0.0</td>\n",
       "      <td>247.0</td>\n",
       "      <td>6.0</td>\n",
       "      <td>0.0</td>\n",
       "      <td>0.0</td>\n",
       "      <td>1482.0</td>\n",
       "    </tr>\n",
       "  </tbody>\n",
       "</table>\n",
       "</div>"
      ],
      "text/plain": [
       "   overall_qual  gr_liv_area  total_bsmt_sf  garage_area  garage_finish  \\\n",
       "0           6.0       1928.0         1020.0        440.0            1.0   \n",
       "1           5.0       1967.0         1967.0        580.0            3.0   \n",
       "2           7.0       1496.0          654.0        426.0            2.0   \n",
       "3           5.0        968.0          968.0        480.0            1.0   \n",
       "4           6.0       1394.0         1394.0        514.0            2.0   \n",
       "\n",
       "   year_remod/add  full_bath  foundation_PConc  mas_vnr_area  totrms_abvgrd  \\\n",
       "0          1950.0        2.0               0.0           0.0            9.0   \n",
       "1          1977.0        2.0               0.0           0.0           10.0   \n",
       "2          2006.0        2.0               1.0           0.0            7.0   \n",
       "3          2006.0        1.0               0.0           0.0            5.0   \n",
       "4          1963.0        1.0               0.0         247.0            6.0   \n",
       "\n",
       "   overall_qual gr_liv_area  overall_qual total_bsmt_sf  \\\n",
       "0                   11568.0                      6120.0   \n",
       "1                    9835.0                      9835.0   \n",
       "2                   10472.0                      4578.0   \n",
       "3                    4840.0                      4840.0   \n",
       "4                    8364.0                      8364.0   \n",
       "\n",
       "   overall_qual garage_area  overall_qual garage_finish  \\\n",
       "0                    2640.0                         6.0   \n",
       "1                    2900.0                        15.0   \n",
       "2                    2982.0                        14.0   \n",
       "3                    2400.0                         5.0   \n",
       "4                    3084.0                        12.0   \n",
       "\n",
       "   overall_qual year_remod/add  overall_qual full_bath  \\\n",
       "0                      11700.0                    12.0   \n",
       "1                       9885.0                    10.0   \n",
       "2                      14042.0                    14.0   \n",
       "3                      10030.0                     5.0   \n",
       "4                      11778.0                     6.0   \n",
       "\n",
       "   overall_qual foundation_PConc  overall_qual mas_vnr_area  \\\n",
       "0                            0.0                        0.0   \n",
       "1                            0.0                        0.0   \n",
       "2                            7.0                        0.0   \n",
       "3                            0.0                        0.0   \n",
       "4                            0.0                     1482.0   \n",
       "\n",
       "   overall_qual totrms_abvgrd  gr_liv_area total_bsmt_sf  \\\n",
       "0                        54.0                  1966560.0   \n",
       "1                        50.0                  3869089.0   \n",
       "2                        49.0                   978384.0   \n",
       "3                        25.0                   937024.0   \n",
       "4                        36.0                  1943236.0   \n",
       "\n",
       "   gr_liv_area garage_area  gr_liv_area garage_finish  \\\n",
       "0                 848320.0                     1928.0   \n",
       "1                1140860.0                     5901.0   \n",
       "2                 637296.0                     2992.0   \n",
       "3                 464640.0                      968.0   \n",
       "4                 716516.0                     2788.0   \n",
       "\n",
       "   gr_liv_area year_remod/add  gr_liv_area full_bath  \\\n",
       "0                   3759600.0                 3856.0   \n",
       "1                   3888759.0                 3934.0   \n",
       "2                   3000976.0                 2992.0   \n",
       "3                   1941808.0                  968.0   \n",
       "4                   2736422.0                 1394.0   \n",
       "\n",
       "   gr_liv_area foundation_PConc  gr_liv_area mas_vnr_area  \\\n",
       "0                           0.0                       0.0   \n",
       "1                           0.0                       0.0   \n",
       "2                        1496.0                       0.0   \n",
       "3                           0.0                       0.0   \n",
       "4                           0.0                  344318.0   \n",
       "\n",
       "   gr_liv_area totrms_abvgrd  total_bsmt_sf garage_area  \\\n",
       "0                    17352.0                   448800.0   \n",
       "1                    19670.0                  1140860.0   \n",
       "2                    10472.0                   278604.0   \n",
       "3                     4840.0                   464640.0   \n",
       "4                     8364.0                   716516.0   \n",
       "\n",
       "   total_bsmt_sf garage_finish  total_bsmt_sf year_remod/add  \\\n",
       "0                       1020.0                     1989000.0   \n",
       "1                       5901.0                     3888759.0   \n",
       "2                       1308.0                     1311924.0   \n",
       "3                        968.0                     1941808.0   \n",
       "4                       2788.0                     2736422.0   \n",
       "\n",
       "   total_bsmt_sf full_bath  total_bsmt_sf foundation_PConc  \\\n",
       "0                   2040.0                             0.0   \n",
       "1                   3934.0                             0.0   \n",
       "2                   1308.0                           654.0   \n",
       "3                    968.0                             0.0   \n",
       "4                   1394.0                             0.0   \n",
       "\n",
       "   total_bsmt_sf mas_vnr_area  total_bsmt_sf totrms_abvgrd  \\\n",
       "0                         0.0                       9180.0   \n",
       "1                         0.0                      19670.0   \n",
       "2                         0.0                       4578.0   \n",
       "3                         0.0                       4840.0   \n",
       "4                    344318.0                       8364.0   \n",
       "\n",
       "   garage_area garage_finish  garage_area year_remod/add  \\\n",
       "0                      440.0                    858000.0   \n",
       "1                     1740.0                   1146660.0   \n",
       "2                      852.0                    854556.0   \n",
       "3                      480.0                    962880.0   \n",
       "4                     1028.0                   1008982.0   \n",
       "\n",
       "   garage_area full_bath  garage_area foundation_PConc  \\\n",
       "0                  880.0                           0.0   \n",
       "1                 1160.0                           0.0   \n",
       "2                  852.0                         426.0   \n",
       "3                  480.0                           0.0   \n",
       "4                  514.0                           0.0   \n",
       "\n",
       "   garage_area mas_vnr_area  garage_area totrms_abvgrd  \\\n",
       "0                       0.0                     3960.0   \n",
       "1                       0.0                     5800.0   \n",
       "2                       0.0                     2982.0   \n",
       "3                       0.0                     2400.0   \n",
       "4                  126958.0                     3084.0   \n",
       "\n",
       "   garage_finish year_remod/add  garage_finish full_bath  \\\n",
       "0                        1950.0                      2.0   \n",
       "1                        5931.0                      6.0   \n",
       "2                        4012.0                      4.0   \n",
       "3                        2006.0                      1.0   \n",
       "4                        3926.0                      2.0   \n",
       "\n",
       "   garage_finish foundation_PConc  garage_finish mas_vnr_area  \\\n",
       "0                             0.0                         0.0   \n",
       "1                             0.0                         0.0   \n",
       "2                             2.0                         0.0   \n",
       "3                             0.0                         0.0   \n",
       "4                             0.0                       494.0   \n",
       "\n",
       "   garage_finish totrms_abvgrd  year_remod/add full_bath  \\\n",
       "0                          9.0                    3900.0   \n",
       "1                         30.0                    3954.0   \n",
       "2                         14.0                    4012.0   \n",
       "3                          5.0                    2006.0   \n",
       "4                         12.0                    1963.0   \n",
       "\n",
       "   year_remod/add foundation_PConc  year_remod/add mas_vnr_area  \\\n",
       "0                              0.0                          0.0   \n",
       "1                              0.0                          0.0   \n",
       "2                           2006.0                          0.0   \n",
       "3                              0.0                          0.0   \n",
       "4                              0.0                     484861.0   \n",
       "\n",
       "   year_remod/add totrms_abvgrd  full_bath foundation_PConc  \\\n",
       "0                       17550.0                         0.0   \n",
       "1                       19770.0                         0.0   \n",
       "2                       14042.0                         2.0   \n",
       "3                       10030.0                         0.0   \n",
       "4                       11778.0                         0.0   \n",
       "\n",
       "   full_bath mas_vnr_area  full_bath totrms_abvgrd  \\\n",
       "0                     0.0                     18.0   \n",
       "1                     0.0                     20.0   \n",
       "2                     0.0                     14.0   \n",
       "3                     0.0                      5.0   \n",
       "4                   247.0                      6.0   \n",
       "\n",
       "   foundation_PConc mas_vnr_area  foundation_PConc totrms_abvgrd  \\\n",
       "0                            0.0                             0.0   \n",
       "1                            0.0                             0.0   \n",
       "2                            0.0                             7.0   \n",
       "3                            0.0                             0.0   \n",
       "4                            0.0                             0.0   \n",
       "\n",
       "   mas_vnr_area totrms_abvgrd  \n",
       "0                         0.0  \n",
       "1                         0.0  \n",
       "2                         0.0  \n",
       "3                         0.0  \n",
       "4                      1482.0  "
      ]
     },
     "execution_count": 80,
     "metadata": {},
     "output_type": "execute_result"
    }
   ],
   "source": [
    "X_test.head()"
   ]
  },
  {
   "cell_type": "code",
   "execution_count": 81,
   "metadata": {},
   "outputs": [],
   "source": [
    "sc = StandardScaler()"
   ]
  },
  {
   "cell_type": "code",
   "execution_count": 82,
   "metadata": {},
   "outputs": [],
   "source": [
    "Z_train = sc.fit_transform(X_train)\n",
    "Z_test = sc.transform(X_test)"
   ]
  },
  {
   "cell_type": "markdown",
   "metadata": {},
   "source": [
    "### creating a 100 equally space alpha equally between 0 and 5 "
   ]
  },
  {
   "cell_type": "code",
   "execution_count": 83,
   "metadata": {},
   "outputs": [],
   "source": [
    "alphas = np.logspace(0,5,100)"
   ]
  },
  {
   "cell_type": "markdown",
   "metadata": {},
   "source": [
    "### Instantiate and fit ridge model  "
   ]
  },
  {
   "cell_type": "code",
   "execution_count": 84,
   "metadata": {},
   "outputs": [
    {
     "data": {
      "text/plain": [
       "RidgeCV(alphas=array([1.00000000e+00, 1.12332403e+00, 1.26185688e+00, 1.41747416e+00,\n",
       "       1.59228279e+00, 1.78864953e+00, 2.00923300e+00, 2.25701972e+00,\n",
       "       2.53536449e+00, 2.84803587e+00, 3.19926714e+00, 3.59381366e+00,\n",
       "       4.03701726e+00, 4.53487851e+00, 5.09413801e+00, 5.72236766e+00,\n",
       "       6.42807312e+00, 7.22080902e+00, 8.11130831e+00, 9.11162756e+00,\n",
       "       1.02353102e+01, 1.14975700e+0...\n",
       "       6.89261210e+03, 7.74263683e+03, 8.69749003e+03, 9.77009957e+03,\n",
       "       1.09749877e+04, 1.23284674e+04, 1.38488637e+04, 1.55567614e+04,\n",
       "       1.74752840e+04, 1.96304065e+04, 2.20513074e+04, 2.47707636e+04,\n",
       "       2.78255940e+04, 3.12571585e+04, 3.51119173e+04, 3.94420606e+04,\n",
       "       4.43062146e+04, 4.97702356e+04, 5.59081018e+04, 6.28029144e+04,\n",
       "       7.05480231e+04, 7.92482898e+04, 8.90215085e+04, 1.00000000e+05]),\n",
       "        cv=5, scoring='r2')"
      ]
     },
     "execution_count": 84,
     "metadata": {},
     "output_type": "execute_result"
    }
   ],
   "source": [
    "ridge_cv = RidgeCV(alphas = alphas, cv = 5 ,scoring='r2')\n",
    "ridge_cv.fit(Z_train,y_train)"
   ]
  },
  {
   "cell_type": "code",
   "execution_count": 85,
   "metadata": {},
   "outputs": [
    {
     "data": {
      "text/plain": [
       "12.91549665014884"
      ]
     },
     "execution_count": 85,
     "metadata": {},
     "output_type": "execute_result"
    }
   ],
   "source": [
    "# Optimal value of alpha\n",
    "ridge_cv.alpha_"
   ]
  },
  {
   "cell_type": "code",
   "execution_count": 86,
   "metadata": {},
   "outputs": [],
   "source": [
    "y_test = ridge_cv.predict(Z_test)\n"
   ]
  },
  {
   "cell_type": "code",
   "execution_count": 87,
   "metadata": {},
   "outputs": [],
   "source": [
    "kaggle = pd.DataFrame(columns = ['Id','SalePrice'])\n",
    "kaggle['Id'] = test.id\n",
    "kaggle['SalePrice'] = y_test\n",
    "kaggle.to_csv('../datasets/kaggle_sub.csv', index=False)"
   ]
  }
 ],
 "metadata": {
  "kernelspec": {
   "display_name": "Python 3",
   "language": "python",
   "name": "python3"
  },
  "language_info": {
   "codemirror_mode": {
    "name": "ipython",
    "version": 3
   },
   "file_extension": ".py",
   "mimetype": "text/x-python",
   "name": "python",
   "nbconvert_exporter": "python",
   "pygments_lexer": "ipython3",
   "version": "3.8.5"
  }
 },
 "nbformat": 4,
 "nbformat_minor": 4
}
